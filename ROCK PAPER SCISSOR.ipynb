{
 "cells": [
  {
   "cell_type": "code",
   "execution_count": 18,
   "id": "b902f32d",
   "metadata": {},
   "outputs": [
    {
     "name": "stdout",
     "output_type": "stream",
     "text": [
      "Rock-Paper-Scissor\n",
      "Enter \"Rock\" or \"Paper\" or \"Scissor\":Rock\n",
      "\n",
      "User choice=Rock\n",
      "computer choice=Scissor\n",
      "User won the match !\n"
     ]
    }
   ],
   "source": [
    "import numpy as np\n",
    "print('Rock-Paper-Scissor')\n",
    "user_choice =input('Enter \"Rock\" or \"Paper\" or \"Scissor\":')\n",
    "computer_choice=np.random.randint(3)\n",
    "if(computer_choice==0):\n",
    "    computer_choice='Rock'\n",
    "elif(computer_choice==1):\n",
    "    computer_choice='Paper'\n",
    "else:\n",
    "    computer_choice='Scissor'\n",
    "print()\n",
    "print(f'User choice={user_choice}')\n",
    "print(f'computer choice={computer_choice}')\n",
    "\n",
    "if(user_choice=='Rock'and computer_choice=='Rock'):\n",
    "    print('Oops! There is a tie.')\n",
    "elif(user_choice=='Rock'and computer_choice=='Paper'):\n",
    "    print('Computer won the match !')\n",
    "elif(user_choice=='Rock'and computer_choice=='Scissor'):\n",
    "    print('User won the match !')\n",
    "elif(user_choice=='Paper'and computer_choice=='Rock'):\n",
    "    print('User won the match !')\n",
    "elif(user_choice=='Paper'and computer_choice=='Paper'):\n",
    "    print('Oops! There is a tie !')\n",
    "elif(user_choice=='Paper'and computer_choice=='Scissor'):\n",
    "    print('Computer won the match !')\n",
    "elif(user_choice=='Scissor'and computer_choice=='Rock'):\n",
    "    print('Computer won the match !')\n",
    "elif(user_choice=='Scissor'and computer_choice=='Paper'):\n",
    "    print('user won the match !')\n",
    "else:\n",
    "    print('Oops! there is a tie !')\n"
   ]
  },
  {
   "cell_type": "code",
   "execution_count": 26,
   "id": "86b64c04",
   "metadata": {},
   "outputs": [
    {
     "name": "stdout",
     "output_type": "stream",
     "text": [
      "Rock-Paper-Scissor\n",
      "Enter \"Rock\" or \"Paper\" or \"Scissor\":Paper\n",
      "\n",
      "User choice=Paper\n",
      "computer choice=Scissor\n",
      "Computer won the match !\n",
      "\n",
      "Do you want to play again? Type \"Yes\" or \"No\"Yes\n",
      "Rock-Paper-Scissor\n",
      "Enter \"Rock\" or \"Paper\" or \"Scissor\":Rock\n",
      "\n",
      "User choice=Rock\n",
      "computer choice=Rock\n",
      "Oops! There is a tie.\n",
      "\n",
      "Do you want to play again? Type \"Yes\" or \"No\"No\n",
      "Matches played =2\n",
      "number of matches won by user =0\n",
      "number of matches won by user =1\n",
      "number of match tie =1\n"
     ]
    }
   ],
   "source": [
    "playmore=1\n",
    "matches_played=0\n",
    "user_win_count=0\n",
    "computer_win_count=0\n",
    "tie_count=0\n",
    "while(playmore):\n",
    "    import numpy as np\n",
    "    print('Rock-Paper-Scissor')\n",
    "    user_choice =input('Enter \"Rock\" or \"Paper\" or \"Scissor\":')\n",
    "    computer_choice=np.random.randint(3)\n",
    "    if(computer_choice==0):\n",
    "        computer_choice='Rock'\n",
    "    elif(computer_choice==1):\n",
    "        computer_choice='Paper'\n",
    "    else:\n",
    "        computer_choice='Scissor'\n",
    "    print()\n",
    "    print(f'User choice={user_choice}')\n",
    "    print(f'computer choice={computer_choice}')\n",
    "\n",
    "    if(user_choice=='Rock'and computer_choice=='Rock'):\n",
    "        print('Oops! There is a tie.')\n",
    "        tie_count+=1\n",
    "    elif(user_choice=='Rock'and computer_choice=='Paper'):\n",
    "        print('Computer won the match !')\n",
    "        computer_win_count+=1\n",
    "    elif(user_choice=='Rock'and computer_choice=='Scissor'):\n",
    "        print('User won the match !')\n",
    "        user_win_count+=1\n",
    "    elif(user_choice=='Paper'and computer_choice=='Rock'):\n",
    "        print('User won the match !')\n",
    "        user_win_count+=1\n",
    "    elif(user_choice=='Paper'and computer_choice=='Paper'):\n",
    "        print('Oops! There is a tie !')\n",
    "        tie_count+=1\n",
    "    elif(user_choice=='Paper'and computer_choice=='Scissor'):\n",
    "        print('Computer won the match !')\n",
    "        computer_win_count+=1\n",
    "    elif(user_choice=='Scissor'and computer_choice=='Rock'):\n",
    "        print('Computer won the match !')\n",
    "    elif(user_choice=='Scissor'and computer_choice=='Paper'):\n",
    "        print('user won the match !')\n",
    "        user_win_count+=1\n",
    "    else:\n",
    "        print('Oops! there is a tie !')\n",
    "        tie_count+=1\n",
    "    print()\n",
    "    matches_played+=1\n",
    "    replay_status=input('Do you want to play again? Type \"Yes\" or \"No\"')\n",
    "    if(replay_status == 'No'):\n",
    "        playmore=0\n",
    "print(f'Matches played ={matches_played}')\n",
    "print(f'number of matches won by user ={user_win_count}')\n",
    "print(f'number of matches won by user ={computer_win_count}')\n",
    "print(f'number of match tie ={tie_count}')\n",
    "\n",
    "\n",
    "\n",
    "\n",
    "\n"
   ]
  },
  {
   "cell_type": "code",
   "execution_count": null,
   "id": "fcf0b436",
   "metadata": {},
   "outputs": [],
   "source": []
  },
  {
   "cell_type": "code",
   "execution_count": null,
   "id": "a0db246f",
   "metadata": {},
   "outputs": [],
   "source": []
  },
  {
   "cell_type": "code",
   "execution_count": null,
   "id": "79d00620",
   "metadata": {},
   "outputs": [],
   "source": []
  },
  {
   "cell_type": "code",
   "execution_count": null,
   "id": "77942705",
   "metadata": {},
   "outputs": [],
   "source": []
  },
  {
   "cell_type": "code",
   "execution_count": null,
   "id": "90068b3b",
   "metadata": {},
   "outputs": [],
   "source": []
  },
  {
   "cell_type": "code",
   "execution_count": null,
   "id": "b236997d",
   "metadata": {},
   "outputs": [],
   "source": []
  },
  {
   "cell_type": "code",
   "execution_count": null,
   "id": "a27ac4a4",
   "metadata": {},
   "outputs": [],
   "source": []
  },
  {
   "cell_type": "code",
   "execution_count": null,
   "id": "4d5df3e3",
   "metadata": {},
   "outputs": [],
   "source": []
  },
  {
   "cell_type": "code",
   "execution_count": null,
   "id": "96ec4886",
   "metadata": {},
   "outputs": [],
   "source": []
  },
  {
   "cell_type": "code",
   "execution_count": null,
   "id": "c9f9df1a",
   "metadata": {},
   "outputs": [],
   "source": []
  }
 ],
 "metadata": {
  "kernelspec": {
   "display_name": "Python 3 (ipykernel)",
   "language": "python",
   "name": "python3"
  },
  "language_info": {
   "codemirror_mode": {
    "name": "ipython",
    "version": 3
   },
   "file_extension": ".py",
   "mimetype": "text/x-python",
   "name": "python",
   "nbconvert_exporter": "python",
   "pygments_lexer": "ipython3",
   "version": "3.9.12"
  }
 },
 "nbformat": 4,
 "nbformat_minor": 5
}
