{
 "cells": [
  {
   "cell_type": "markdown",
   "id": "9a9d69ee",
   "metadata": {},
   "source": [
    "\n",
    "# Numpy"
   ]
  },
  {
   "cell_type": "code",
   "execution_count": 1,
   "id": "0b6611fe",
   "metadata": {},
   "outputs": [
    {
     "data": {
      "text/plain": [
       "array([1, 2, 3, 4, 5])"
      ]
     },
     "execution_count": 1,
     "metadata": {},
     "output_type": "execute_result"
    }
   ],
   "source": [
    "lst = [1, 2, 3, 4, 5]\n",
    "import numpy\n",
    "numpy.array(lst)"
   ]
  },
  {
   "cell_type": "code",
   "execution_count": 2,
   "id": "e4e5ed31",
   "metadata": {},
   "outputs": [
    {
     "data": {
      "text/plain": [
       "array([1, 2, 3, 4, 5])"
      ]
     },
     "execution_count": 2,
     "metadata": {},
     "output_type": "execute_result"
    }
   ],
   "source": [
    "lst = [1, 2, 3, 4, 5]\n",
    "import numpy as np\n",
    "np.array(lst)"
   ]
  },
  {
   "cell_type": "code",
   "execution_count": 3,
   "id": "e54d8052",
   "metadata": {},
   "outputs": [
    {
     "data": {
      "text/plain": [
       "numpy.ndarray"
      ]
     },
     "execution_count": 3,
     "metadata": {},
     "output_type": "execute_result"
    }
   ],
   "source": [
    "type(np.array(lst))"
   ]
  },
  {
   "cell_type": "code",
   "execution_count": 4,
   "id": "fe1f40b3",
   "metadata": {},
   "outputs": [],
   "source": [
    "lst = [1, 2, 3, 4, 5]\n",
    "import numpy as np\n",
    "narray = np.array(lst)"
   ]
  },
  {
   "cell_type": "code",
   "execution_count": 5,
   "id": "f9fe21be",
   "metadata": {},
   "outputs": [
    {
     "name": "stdout",
     "output_type": "stream",
     "text": [
      "[1 2 3 4 5]\n"
     ]
    }
   ],
   "source": [
    "print(narray)"
   ]
  },
  {
   "cell_type": "code",
   "execution_count": 6,
   "id": "9c0509c8",
   "metadata": {},
   "outputs": [
    {
     "name": "stdout",
     "output_type": "stream",
     "text": [
      "<class 'numpy.ndarray'>\n"
     ]
    }
   ],
   "source": [
    "print(type(narray))"
   ]
  },
  {
   "cell_type": "code",
   "execution_count": 7,
   "id": "ad023670",
   "metadata": {},
   "outputs": [
    {
     "data": {
      "text/plain": [
       "array(['Rishabh', 'Bafna', 'Python', 'Anaconda', 'Cobra'], dtype='<U8')"
      ]
     },
     "execution_count": 7,
     "metadata": {},
     "output_type": "execute_result"
    }
   ],
   "source": [
    "lst = ['Rishabh', 'Bafna', 'Python', 'Anaconda', 'Cobra']\n",
    "numpy.array(lst)"
   ]
  },
  {
   "cell_type": "code",
   "execution_count": 8,
   "id": "c369b2f5",
   "metadata": {},
   "outputs": [
    {
     "name": "stdout",
     "output_type": "stream",
     "text": [
      "[[1, 2, 3], [4, 5, 6], [7, 8, 9]]\n",
      "\n",
      "[[1 2 3]\n",
      " [4 5 6]\n",
      " [7 8 9]]\n"
     ]
    }
   ],
   "source": [
    "lst1 = [[1,2,3], [4,5,6], [7,8,9]]\n",
    "print(lst1)\n",
    "print()\n",
    "print(np.array(lst1))"
   ]
  },
  {
   "cell_type": "code",
   "execution_count": 9,
   "id": "9ebedd96",
   "metadata": {},
   "outputs": [
    {
     "data": {
      "text/plain": [
       "array([0., 0., 0., 0.])"
      ]
     },
     "execution_count": 9,
     "metadata": {},
     "output_type": "execute_result"
    }
   ],
   "source": [
    "np.zeros(4)"
   ]
  },
  {
   "cell_type": "code",
   "execution_count": 10,
   "id": "8cc24ec4",
   "metadata": {},
   "outputs": [
    {
     "data": {
      "text/plain": [
       "array([[0., 0., 0.],\n",
       "       [0., 0., 0.],\n",
       "       [0., 0., 0.]])"
      ]
     },
     "execution_count": 10,
     "metadata": {},
     "output_type": "execute_result"
    }
   ],
   "source": [
    "np.zeros((3,3))"
   ]
  },
  {
   "cell_type": "code",
   "execution_count": 11,
   "id": "2e3da37b",
   "metadata": {},
   "outputs": [
    {
     "data": {
      "text/plain": [
       "array([[0., 0., 0., 0., 0., 0.],\n",
       "       [0., 0., 0., 0., 0., 0.]])"
      ]
     },
     "execution_count": 11,
     "metadata": {},
     "output_type": "execute_result"
    }
   ],
   "source": [
    "np.zeros((2,6))"
   ]
  },
  {
   "cell_type": "code",
   "execution_count": 12,
   "id": "f5028094",
   "metadata": {},
   "outputs": [
    {
     "data": {
      "text/plain": [
       "array([[0., 0., 0., 0., 0., 0.],\n",
       "       [0., 0., 0., 0., 0., 0.]])"
      ]
     },
     "execution_count": 12,
     "metadata": {},
     "output_type": "execute_result"
    }
   ],
   "source": [
    "np.zeros([2,6])"
   ]
  },
  {
   "cell_type": "code",
   "execution_count": 13,
   "id": "b45ee5cd",
   "metadata": {},
   "outputs": [
    {
     "data": {
      "text/plain": [
       "array([1., 1., 1., 1.])"
      ]
     },
     "execution_count": 13,
     "metadata": {},
     "output_type": "execute_result"
    }
   ],
   "source": [
    "np.ones(4)"
   ]
  },
  {
   "cell_type": "code",
   "execution_count": 14,
   "id": "1398a7da",
   "metadata": {},
   "outputs": [
    {
     "data": {
      "text/plain": [
       "array([[1., 1., 1.],\n",
       "       [1., 1., 1.],\n",
       "       [1., 1., 1.]])"
      ]
     },
     "execution_count": 14,
     "metadata": {},
     "output_type": "execute_result"
    }
   ],
   "source": [
    "np.ones((3,3))"
   ]
  },
  {
   "cell_type": "code",
   "execution_count": 15,
   "id": "1d025b75",
   "metadata": {},
   "outputs": [
    {
     "data": {
      "text/plain": [
       "array([[1., 1., 1., 1., 1., 1.],\n",
       "       [1., 1., 1., 1., 1., 1.]])"
      ]
     },
     "execution_count": 15,
     "metadata": {},
     "output_type": "execute_result"
    }
   ],
   "source": [
    "np.ones([2,6])"
   ]
  },
  {
   "cell_type": "code",
   "execution_count": 16,
   "id": "2a0dd63d",
   "metadata": {},
   "outputs": [
    {
     "data": {
      "text/plain": [
       "array([0, 1, 2, 3, 4, 5, 6, 7, 8, 9])"
      ]
     },
     "execution_count": 16,
     "metadata": {},
     "output_type": "execute_result"
    }
   ],
   "source": [
    "np.arange(0,10)"
   ]
  },
  {
   "cell_type": "code",
   "execution_count": 17,
   "id": "a30ed951",
   "metadata": {},
   "outputs": [
    {
     "data": {
      "text/plain": [
       "[0, 1, 2, 3, 4, 5, 6, 7, 8, 9]"
      ]
     },
     "execution_count": 17,
     "metadata": {},
     "output_type": "execute_result"
    }
   ],
   "source": [
    "list(range(0,10))"
   ]
  },
  {
   "cell_type": "code",
   "execution_count": 18,
   "id": "cc70d9f2",
   "metadata": {},
   "outputs": [
    {
     "data": {
      "text/plain": [
       "array([-15, -14, -13, -12, -11, -10,  -9,  -8,  -7,  -6,  -5])"
      ]
     },
     "execution_count": 18,
     "metadata": {},
     "output_type": "execute_result"
    }
   ],
   "source": [
    "np.arange(-15,-4)"
   ]
  },
  {
   "cell_type": "code",
   "execution_count": 19,
   "id": "bf42689e",
   "metadata": {},
   "outputs": [
    {
     "data": {
      "text/plain": [
       "array([ 0.,  5., 10.])"
      ]
     },
     "execution_count": 19,
     "metadata": {},
     "output_type": "execute_result"
    }
   ],
   "source": [
    "np.linspace(0,10,3)"
   ]
  },
  {
   "cell_type": "code",
   "execution_count": 20,
   "id": "b7819279",
   "metadata": {},
   "outputs": [
    {
     "data": {
      "text/plain": [
       "array([ 0.,  2.,  4.,  6.,  8., 10.])"
      ]
     },
     "execution_count": 20,
     "metadata": {},
     "output_type": "execute_result"
    }
   ],
   "source": [
    "np.linspace(0,10,6)"
   ]
  },
  {
   "cell_type": "code",
   "execution_count": 21,
   "id": "005593a1",
   "metadata": {},
   "outputs": [
    {
     "data": {
      "text/plain": [
       "array([ 0.        ,  1.11111111,  2.22222222,  3.33333333,  4.44444444,\n",
       "        5.55555556,  6.66666667,  7.77777778,  8.88888889, 10.        ])"
      ]
     },
     "execution_count": 21,
     "metadata": {},
     "output_type": "execute_result"
    }
   ],
   "source": [
    "np.linspace(0,10,10)"
   ]
  },
  {
   "cell_type": "code",
   "execution_count": 22,
   "id": "4799cbcb",
   "metadata": {},
   "outputs": [
    {
     "data": {
      "text/plain": [
       "array([10., 15., 20., 25., 30.])"
      ]
     },
     "execution_count": 22,
     "metadata": {},
     "output_type": "execute_result"
    }
   ],
   "source": [
    "np.linspace(10,30,5)"
   ]
  },
  {
   "cell_type": "code",
   "execution_count": 23,
   "id": "2c77635a",
   "metadata": {},
   "outputs": [
    {
     "data": {
      "text/plain": [
       "array([ 0.        ,  0.1010101 ,  0.2020202 ,  0.3030303 ,  0.4040404 ,\n",
       "        0.50505051,  0.60606061,  0.70707071,  0.80808081,  0.90909091,\n",
       "        1.01010101,  1.11111111,  1.21212121,  1.31313131,  1.41414141,\n",
       "        1.51515152,  1.61616162,  1.71717172,  1.81818182,  1.91919192,\n",
       "        2.02020202,  2.12121212,  2.22222222,  2.32323232,  2.42424242,\n",
       "        2.52525253,  2.62626263,  2.72727273,  2.82828283,  2.92929293,\n",
       "        3.03030303,  3.13131313,  3.23232323,  3.33333333,  3.43434343,\n",
       "        3.53535354,  3.63636364,  3.73737374,  3.83838384,  3.93939394,\n",
       "        4.04040404,  4.14141414,  4.24242424,  4.34343434,  4.44444444,\n",
       "        4.54545455,  4.64646465,  4.74747475,  4.84848485,  4.94949495,\n",
       "        5.05050505,  5.15151515,  5.25252525,  5.35353535,  5.45454545,\n",
       "        5.55555556,  5.65656566,  5.75757576,  5.85858586,  5.95959596,\n",
       "        6.06060606,  6.16161616,  6.26262626,  6.36363636,  6.46464646,\n",
       "        6.56565657,  6.66666667,  6.76767677,  6.86868687,  6.96969697,\n",
       "        7.07070707,  7.17171717,  7.27272727,  7.37373737,  7.47474747,\n",
       "        7.57575758,  7.67676768,  7.77777778,  7.87878788,  7.97979798,\n",
       "        8.08080808,  8.18181818,  8.28282828,  8.38383838,  8.48484848,\n",
       "        8.58585859,  8.68686869,  8.78787879,  8.88888889,  8.98989899,\n",
       "        9.09090909,  9.19191919,  9.29292929,  9.39393939,  9.49494949,\n",
       "        9.5959596 ,  9.6969697 ,  9.7979798 ,  9.8989899 , 10.        ])"
      ]
     },
     "execution_count": 23,
     "metadata": {},
     "output_type": "execute_result"
    }
   ],
   "source": [
    "np.linspace(0,10,100)"
   ]
  },
  {
   "cell_type": "code",
   "execution_count": 24,
   "id": "54fd86ba",
   "metadata": {},
   "outputs": [
    {
     "data": {
      "text/plain": [
       "array([-10. ,  -7.5,  -5. ])"
      ]
     },
     "execution_count": 24,
     "metadata": {},
     "output_type": "execute_result"
    }
   ],
   "source": [
    "np.linspace(-10,-5,3)"
   ]
  },
  {
   "cell_type": "code",
   "execution_count": 25,
   "id": "b75ade87",
   "metadata": {},
   "outputs": [
    {
     "data": {
      "text/plain": [
       "array([[1., 0., 0., 0.],\n",
       "       [0., 1., 0., 0.],\n",
       "       [0., 0., 1., 0.],\n",
       "       [0., 0., 0., 1.]])"
      ]
     },
     "execution_count": 25,
     "metadata": {},
     "output_type": "execute_result"
    }
   ],
   "source": [
    "np.eye(4)"
   ]
  },
  {
   "cell_type": "code",
   "execution_count": 26,
   "id": "c6962f38",
   "metadata": {},
   "outputs": [
    {
     "data": {
      "text/plain": [
       "array([[1., 0., 0., 0.],\n",
       "       [0., 1., 0., 0.],\n",
       "       [0., 0., 1., 0.],\n",
       "       [0., 0., 0., 1.]])"
      ]
     },
     "execution_count": 26,
     "metadata": {},
     "output_type": "execute_result"
    }
   ],
   "source": [
    "np.eye(4,4)"
   ]
  },
  {
   "cell_type": "code",
   "execution_count": 27,
   "id": "d6bf5ee6",
   "metadata": {},
   "outputs": [
    {
     "data": {
      "text/plain": [
       "array([[1., 0., 0., 0., 0.],\n",
       "       [0., 1., 0., 0., 0.],\n",
       "       [0., 0., 1., 0., 0.],\n",
       "       [0., 0., 0., 1., 0.]])"
      ]
     },
     "execution_count": 27,
     "metadata": {},
     "output_type": "execute_result"
    }
   ],
   "source": [
    "np.eye(4,5)"
   ]
  },
  {
   "cell_type": "code",
   "execution_count": 28,
   "id": "0d99f395",
   "metadata": {},
   "outputs": [
    {
     "data": {
      "text/plain": [
       "array([[1., 0., 0., 0., 0., 0.],\n",
       "       [0., 1., 0., 0., 0., 0.]])"
      ]
     },
     "execution_count": 28,
     "metadata": {},
     "output_type": "execute_result"
    }
   ],
   "source": [
    "np.eye(2,6)"
   ]
  },
  {
   "cell_type": "code",
   "execution_count": 29,
   "id": "32465948",
   "metadata": {},
   "outputs": [
    {
     "data": {
      "text/plain": [
       "array([0.53013307, 0.47052811])"
      ]
     },
     "execution_count": 29,
     "metadata": {},
     "output_type": "execute_result"
    }
   ],
   "source": [
    "np.random.rand(2)"
   ]
  },
  {
   "cell_type": "code",
   "execution_count": 30,
   "id": "89dc3fd2",
   "metadata": {},
   "outputs": [
    {
     "data": {
      "text/plain": [
       "array([0.99050635, 0.54699205, 0.06698718, 0.70877295, 0.42734743])"
      ]
     },
     "execution_count": 30,
     "metadata": {},
     "output_type": "execute_result"
    }
   ],
   "source": [
    "np.random.rand(5)"
   ]
  },
  {
   "cell_type": "code",
   "execution_count": 31,
   "id": "7b12b24d",
   "metadata": {},
   "outputs": [
    {
     "data": {
      "text/plain": [
       "1"
      ]
     },
     "execution_count": 31,
     "metadata": {},
     "output_type": "execute_result"
    }
   ],
   "source": [
    "np.random.randint(2)"
   ]
  },
  {
   "cell_type": "code",
   "execution_count": 32,
   "id": "8478d162",
   "metadata": {},
   "outputs": [
    {
     "data": {
      "text/plain": [
       "1"
      ]
     },
     "execution_count": 32,
     "metadata": {},
     "output_type": "execute_result"
    }
   ],
   "source": [
    "np.random.randint(3)"
   ]
  },
  {
   "cell_type": "markdown",
   "id": "375f898c",
   "metadata": {},
   "source": [
    "# Create Rock-Paper-Scissor game"
   ]
  },
  {
   "cell_type": "code",
   "execution_count": 33,
   "id": "9b9d0077",
   "metadata": {},
   "outputs": [],
   "source": [
    "# Use np.random.randint(3)\n",
    "# Homework"
   ]
  },
  {
   "cell_type": "code",
   "execution_count": 34,
   "id": "75d19684",
   "metadata": {},
   "outputs": [
    {
     "data": {
      "text/plain": [
       "48"
      ]
     },
     "execution_count": 34,
     "metadata": {},
     "output_type": "execute_result"
    }
   ],
   "source": [
    "np.random.randint(1,100) # 100 is exclusive"
   ]
  },
  {
   "cell_type": "code",
   "execution_count": 35,
   "id": "6e8dd11e",
   "metadata": {},
   "outputs": [
    {
     "data": {
      "text/plain": [
       "array([29, 25, 94,  4, 81])"
      ]
     },
     "execution_count": 35,
     "metadata": {},
     "output_type": "execute_result"
    }
   ],
   "source": [
    "np.random.randint(1,100,5)"
   ]
  },
  {
   "cell_type": "code",
   "execution_count": 36,
   "id": "900c6cd0",
   "metadata": {},
   "outputs": [
    {
     "data": {
      "text/plain": [
       "array([-0.60290483,  0.44061204, -2.02120413, -1.55915567,  1.32715073,\n",
       "        1.21366214,  1.79873033,  0.81323105,  1.13520601, -0.22276198])"
      ]
     },
     "execution_count": 36,
     "metadata": {},
     "output_type": "execute_result"
    }
   ],
   "source": [
    "np.random.randn(10)"
   ]
  },
  {
   "cell_type": "code",
   "execution_count": 37,
   "id": "546dce2c",
   "metadata": {},
   "outputs": [
    {
     "data": {
      "text/plain": [
       "array([[-0.25459865,  0.79044333,  1.12694973,  1.27701019, -1.90662756,\n",
       "         0.18625775,  0.8295849 , -0.11786243, -0.61904776,  0.79334635],\n",
       "       [-0.02272763, -0.41777544, -1.42711446,  1.64651702,  2.13548317,\n",
       "         0.64535407,  1.4506432 ,  0.98216691,  0.25397806, -0.80109019],\n",
       "       [ 1.26095905,  0.83406748, -0.79380561, -0.76501638,  0.23823622,\n",
       "         0.13946024, -1.04555193, -1.75360457, -0.24010689,  0.73404831],\n",
       "       [-0.95500858, -1.4278821 ,  1.29484257,  0.16539068,  0.81236452,\n",
       "        -1.12784656,  0.05028696, -0.99742371,  0.81849284,  1.10441522],\n",
       "       [-0.05269844,  0.38176898, -0.94748958, -0.81387621,  1.13411505,\n",
       "        -0.82441538,  0.63145144, -0.99661579, -1.12269877,  0.1800702 ],\n",
       "       [ 1.0756849 , -0.68515173, -0.29309686,  0.12935149, -1.35160202,\n",
       "         0.18894264, -0.39968362,  1.07178613,  1.07851332, -0.63763125],\n",
       "       [-0.388375  , -1.99027066,  2.33774724, -0.40988716, -0.50397428,\n",
       "        -0.22887053,  1.83800224,  0.80939038, -0.95375776,  0.55133547],\n",
       "       [ 0.96701098, -0.02123534, -0.76660775, -1.28825934,  1.37538274,\n",
       "        -0.19961974,  1.17258672,  0.05915861, -1.89552972, -0.14596623],\n",
       "       [ 0.32724936,  0.38761797, -0.06864356,  0.67534253, -0.19740393,\n",
       "        -0.15897309, -1.4399474 , -1.40862086,  2.33580879,  0.01039338],\n",
       "       [-0.30355575, -0.88467929,  1.34984541,  0.04578348, -1.41909197,\n",
       "        -0.52560646,  1.20948451,  0.47399501,  1.04003592,  0.07703704]])"
      ]
     },
     "execution_count": 37,
     "metadata": {},
     "output_type": "execute_result"
    }
   ],
   "source": [
    "np.random.randn(10,10)"
   ]
  },
  {
   "cell_type": "code",
   "execution_count": 38,
   "id": "0e10e2cf",
   "metadata": {},
   "outputs": [
    {
     "name": "stdout",
     "output_type": "stream",
     "text": [
      "[0 1 2 3 4 5 6 7 8 9]\n",
      "(10,)\n"
     ]
    }
   ],
   "source": [
    "narray = np.arange(0,10)\n",
    "print(narray)\n",
    "print(narray.shape)"
   ]
  },
  {
   "cell_type": "code",
   "execution_count": 39,
   "id": "594bc918",
   "metadata": {},
   "outputs": [
    {
     "name": "stdout",
     "output_type": "stream",
     "text": [
      "[0 1 2 3 4 5 6 7 8 9]\n",
      "[[0 1 2 3 4]\n",
      " [5 6 7 8 9]]\n"
     ]
    }
   ],
   "source": [
    "narray = np.arange(0,10)\n",
    "print(narray)\n",
    "narray = narray.reshape(2,5)\n",
    "print(narray)"
   ]
  },
  {
   "cell_type": "code",
   "execution_count": 40,
   "id": "da9b7e71",
   "metadata": {},
   "outputs": [
    {
     "name": "stdout",
     "output_type": "stream",
     "text": [
      "[0 1 2 3 4 5 6 7 8 9]\n"
     ]
    },
    {
     "ename": "ValueError",
     "evalue": "cannot reshape array of size 10 into shape (3,3)",
     "output_type": "error",
     "traceback": [
      "\u001b[1;31m---------------------------------------------------------------------------\u001b[0m",
      "\u001b[1;31mValueError\u001b[0m                                Traceback (most recent call last)",
      "Input \u001b[1;32mIn [40]\u001b[0m, in \u001b[0;36m<cell line: 3>\u001b[1;34m()\u001b[0m\n\u001b[0;32m      1\u001b[0m narray \u001b[38;5;241m=\u001b[39m np\u001b[38;5;241m.\u001b[39marange(\u001b[38;5;241m0\u001b[39m,\u001b[38;5;241m10\u001b[39m)\n\u001b[0;32m      2\u001b[0m \u001b[38;5;28mprint\u001b[39m(narray)\n\u001b[1;32m----> 3\u001b[0m narray \u001b[38;5;241m=\u001b[39m \u001b[43mnarray\u001b[49m\u001b[38;5;241;43m.\u001b[39;49m\u001b[43mreshape\u001b[49m\u001b[43m(\u001b[49m\u001b[38;5;241;43m3\u001b[39;49m\u001b[43m,\u001b[49m\u001b[38;5;241;43m3\u001b[39;49m\u001b[43m)\u001b[49m      \u001b[38;5;66;03m# ValueError: cannot reshape array of size 10 into shape (3,3)\u001b[39;00m\n\u001b[0;32m      4\u001b[0m \u001b[38;5;28mprint\u001b[39m(narray)\n",
      "\u001b[1;31mValueError\u001b[0m: cannot reshape array of size 10 into shape (3,3)"
     ]
    }
   ],
   "source": [
    "narray = np.arange(0,10)\n",
    "print(narray)\n",
    "narray = narray.reshape(3,3)      # ValueError: cannot reshape array of size 10 into shape (3,3)\n",
    "print(narray)"
   ]
  },
  {
   "cell_type": "code",
   "execution_count": 41,
   "id": "c63afce2",
   "metadata": {},
   "outputs": [
    {
     "name": "stdout",
     "output_type": "stream",
     "text": [
      "[0 1 2 3 4 5 6 7 8 9]\n",
      "\n",
      "(10,)\n",
      "\n",
      "[[0]\n",
      " [1]\n",
      " [2]\n",
      " [3]\n",
      " [4]\n",
      " [5]\n",
      " [6]\n",
      " [7]\n",
      " [8]\n",
      " [9]]\n",
      "\n",
      "(10, 1)\n",
      "\n",
      "[[0 1 2 3 4]\n",
      " [5 6 7 8 9]]\n",
      "\n",
      "(2, 5)\n",
      "\n",
      "[[0 1]\n",
      " [2 3]\n",
      " [4 5]\n",
      " [6 7]\n",
      " [8 9]]\n",
      "\n",
      "(5, 2)\n"
     ]
    }
   ],
   "source": [
    "narray = np.arange(0,10)\n",
    "print(narray)\n",
    "print()\n",
    "print(narray.shape)\n",
    "print()\n",
    "print(narray.reshape(10,1))\n",
    "print()\n",
    "print(narray.reshape(10,1).shape)\n",
    "print()\n",
    "print(narray.reshape(2,5))\n",
    "print()\n",
    "print(narray.reshape(2,5).shape)\n",
    "print()\n",
    "print(narray.reshape(5,2))\n",
    "print()\n",
    "print(narray.reshape(5,2).shape)"
   ]
  },
  {
   "cell_type": "code",
   "execution_count": 42,
   "id": "816fa0ad",
   "metadata": {},
   "outputs": [
    {
     "name": "stdout",
     "output_type": "stream",
     "text": [
      "[0 1 2 3 4 5 6 7 8 9]\n",
      "\n",
      "[[0 1]\n",
      " [2 3]\n",
      " [4 5]\n",
      " [6 7]\n",
      " [8 9]]\n"
     ]
    }
   ],
   "source": [
    "narray = np.arange(0,10)\n",
    "print(narray)\n",
    "print()\n",
    "print(narray.reshape(2,5).reshape(5,2))"
   ]
  },
  {
   "cell_type": "code",
   "execution_count": 43,
   "id": "b641d978",
   "metadata": {},
   "outputs": [
    {
     "name": "stdout",
     "output_type": "stream",
     "text": [
      "[ 0  1  2  3  4  5  6  7  8  9 10 11 12 13 14 15 16 17 18 19 20 21 22 23\n",
      " 24 25 26 27 28 29 30 31 32 33 34 35 36 37 38 39 40 41 42 43 44 45 46 47\n",
      " 48 49 50 51 52 53 54 55 56 57 58 59 60 61 62 63 64 65 66 67 68 69 70 71\n",
      " 72 73 74 75 76 77 78 79 80 81 82 83 84 85 86 87 88 89 90 91 92 93 94 95\n",
      " 96 97 98 99]\n",
      "\n",
      "[[ 0  1  2  3  4  5  6  7  8  9]\n",
      " [10 11 12 13 14 15 16 17 18 19]\n",
      " [20 21 22 23 24 25 26 27 28 29]\n",
      " [30 31 32 33 34 35 36 37 38 39]\n",
      " [40 41 42 43 44 45 46 47 48 49]\n",
      " [50 51 52 53 54 55 56 57 58 59]\n",
      " [60 61 62 63 64 65 66 67 68 69]\n",
      " [70 71 72 73 74 75 76 77 78 79]\n",
      " [80 81 82 83 84 85 86 87 88 89]\n",
      " [90 91 92 93 94 95 96 97 98 99]]\n"
     ]
    }
   ],
   "source": [
    "narray = np.arange(0,100)\n",
    "print(narray)\n",
    "print()\n",
    "narray = narray.reshape(10,10)\n",
    "print(narray)"
   ]
  },
  {
   "cell_type": "code",
   "execution_count": 44,
   "id": "7e0af1ce",
   "metadata": {},
   "outputs": [
    {
     "data": {
      "text/plain": [
       "array([0, 1, 2, 3, 4, 5, 6, 7, 8, 9])"
      ]
     },
     "execution_count": 44,
     "metadata": {},
     "output_type": "execute_result"
    }
   ],
   "source": [
    "narray[0]"
   ]
  },
  {
   "cell_type": "code",
   "execution_count": 45,
   "id": "85a9df24",
   "metadata": {},
   "outputs": [
    {
     "name": "stdout",
     "output_type": "stream",
     "text": [
      "[[ 0  1  2  3  4  5  6  7  8  9]\n",
      " [10 11 12 13 14 15 16 17 18 19]\n",
      " [20 21 22 23 24 25 26 27 28 29]\n",
      " [30 31 32 33 34 35 36 37 38 39]\n",
      " [40 41 42 43 44 45 46 47 48 49]\n",
      " [50 51 52 53 54 55 56 57 58 59]\n",
      " [60 61 62 63 64 65 66 67 68 69]\n",
      " [70 71 72 73 74 75 76 77 78 79]\n",
      " [80 81 82 83 84 85 86 87 88 89]\n",
      " [90 91 92 93 94 95 96 97 98 99]]\n",
      "\n",
      "[42 43 44 45 46]\n",
      "\n",
      "[[64 65 66 67 68]\n",
      " [74 75 76 77 78]\n",
      " [84 85 86 87 88]]\n"
     ]
    }
   ],
   "source": [
    "narray = np.arange(0,100).reshape(10,10)\n",
    "print(narray)\n",
    "print()\n",
    "print(narray[4,2:7])\n",
    "print()\n",
    "print(narray[6:9,4:9])"
   ]
  },
  {
   "cell_type": "code",
   "execution_count": 46,
   "id": "e065ab50",
   "metadata": {},
   "outputs": [
    {
     "data": {
      "text/plain": [
       "array([[ 0,  1,  2,  3,  4,  5,  6,  7,  8,  9],\n",
       "       [20, 21, 22, 23, 24, 25, 26, 27, 28, 29],\n",
       "       [40, 41, 42, 43, 44, 45, 46, 47, 48, 49],\n",
       "       [60, 61, 62, 63, 64, 65, 66, 67, 68, 69],\n",
       "       [80, 81, 82, 83, 84, 85, 86, 87, 88, 89]])"
      ]
     },
     "execution_count": 46,
     "metadata": {},
     "output_type": "execute_result"
    }
   ],
   "source": [
    "narray[::2,::]"
   ]
  },
  {
   "cell_type": "code",
   "execution_count": 47,
   "id": "2e68977c",
   "metadata": {},
   "outputs": [
    {
     "data": {
      "text/plain": [
       "array([[ 0,  2,  4,  6,  8],\n",
       "       [20, 22, 24, 26, 28],\n",
       "       [40, 42, 44, 46, 48],\n",
       "       [60, 62, 64, 66, 68],\n",
       "       [80, 82, 84, 86, 88]])"
      ]
     },
     "execution_count": 47,
     "metadata": {},
     "output_type": "execute_result"
    }
   ],
   "source": [
    "narray[::2,::2]"
   ]
  },
  {
   "cell_type": "code",
   "execution_count": 48,
   "id": "342d2c34",
   "metadata": {},
   "outputs": [
    {
     "data": {
      "text/plain": [
       "55"
      ]
     },
     "execution_count": 48,
     "metadata": {},
     "output_type": "execute_result"
    }
   ],
   "source": [
    "narray[5,5]"
   ]
  },
  {
   "cell_type": "code",
   "execution_count": 49,
   "id": "304b47fd",
   "metadata": {},
   "outputs": [
    {
     "data": {
      "text/plain": [
       "55"
      ]
     },
     "execution_count": 49,
     "metadata": {},
     "output_type": "execute_result"
    }
   ],
   "source": [
    "narray[5][5]"
   ]
  },
  {
   "cell_type": "code",
   "execution_count": 50,
   "id": "f7153333",
   "metadata": {},
   "outputs": [
    {
     "data": {
      "text/plain": [
       "array([95,  0, 49,  7, 99, 43, 14, 30, 62, 69])"
      ]
     },
     "execution_count": 50,
     "metadata": {},
     "output_type": "execute_result"
    }
   ],
   "source": [
    "nlst = np.random.randint(0, 100, 10)\n",
    "nlst"
   ]
  },
  {
   "cell_type": "code",
   "execution_count": 51,
   "id": "42f57efe",
   "metadata": {},
   "outputs": [
    {
     "data": {
      "text/plain": [
       "99"
      ]
     },
     "execution_count": 51,
     "metadata": {},
     "output_type": "execute_result"
    }
   ],
   "source": [
    "nlst.max()"
   ]
  },
  {
   "cell_type": "code",
   "execution_count": 52,
   "id": "d68ca7d2",
   "metadata": {},
   "outputs": [
    {
     "data": {
      "text/plain": [
       "0"
      ]
     },
     "execution_count": 52,
     "metadata": {},
     "output_type": "execute_result"
    }
   ],
   "source": [
    "nlst.min()"
   ]
  },
  {
   "cell_type": "code",
   "execution_count": 53,
   "id": "f114feed",
   "metadata": {},
   "outputs": [
    {
     "data": {
      "text/plain": [
       "4"
      ]
     },
     "execution_count": 53,
     "metadata": {},
     "output_type": "execute_result"
    }
   ],
   "source": [
    "nlst.argmax()"
   ]
  },
  {
   "cell_type": "code",
   "execution_count": 54,
   "id": "f9879140",
   "metadata": {},
   "outputs": [
    {
     "data": {
      "text/plain": [
       "1"
      ]
     },
     "execution_count": 54,
     "metadata": {},
     "output_type": "execute_result"
    }
   ],
   "source": [
    "nlst.argmin()"
   ]
  },
  {
   "cell_type": "code",
   "execution_count": 55,
   "id": "0ba17707",
   "metadata": {},
   "outputs": [
    {
     "name": "stdout",
     "output_type": "stream",
     "text": [
      "[0. 0. 0. 0. 0.]\n",
      "float64\n",
      "[0 0 0 0 0]\n"
     ]
    }
   ],
   "source": [
    "arr = np.zeros(5)\n",
    "print(arr)\n",
    "print(arr.dtype)\n",
    "print(arr.astype(int))"
   ]
  },
  {
   "cell_type": "code",
   "execution_count": 56,
   "id": "b9f0773e",
   "metadata": {},
   "outputs": [
    {
     "name": "stdout",
     "output_type": "stream",
     "text": [
      "[[ 0  1  2  3  4  5  6  7  8  9]\n",
      " [10 11 12 13 14 15 16 17 18 19]\n",
      " [20 21 22 23 24 25 26 27 28 29]\n",
      " [30 31 32 33 34 35 36 37 38 39]\n",
      " [40 41 42 43 44 45 46 47 48 49]\n",
      " [50 51 52 53 54 55 56 57 58 59]\n",
      " [60 61 62 63 64 65 66 67 68 69]\n",
      " [70 71 72 73 74 75 76 77 78 79]\n",
      " [80 81 82 83 84 85 86 87 88 89]\n",
      " [90 91 92 93 94 95 96 97 98 99]]\n"
     ]
    }
   ],
   "source": [
    "import numpy as np\n",
    "narr_2d = np.arange(0,100).reshape(10,10)\n",
    "print(narr_2d)"
   ]
  },
  {
   "cell_type": "code",
   "execution_count": 57,
   "id": "e335bd92",
   "metadata": {},
   "outputs": [
    {
     "data": {
      "text/plain": [
       "array([[ 1,  2,  3,  4,  5,  6,  7,  8,  9],\n",
       "       [11, 12, 13, 14, 15, 16, 17, 18, 19]])"
      ]
     },
     "execution_count": 57,
     "metadata": {},
     "output_type": "execute_result"
    }
   ],
   "source": [
    "narr_2d[:2,1:]"
   ]
  },
  {
   "cell_type": "code",
   "execution_count": 58,
   "id": "4cacb301",
   "metadata": {},
   "outputs": [
    {
     "name": "stdout",
     "output_type": "stream",
     "text": [
      "[59 72 49 41 62 93 42 15 64 62]\n"
     ]
    }
   ],
   "source": [
    "narr = np.random.randint(1,100,10)\n",
    "print(narr)"
   ]
  },
  {
   "cell_type": "code",
   "execution_count": 59,
   "id": "f4388606",
   "metadata": {},
   "outputs": [
    {
     "data": {
      "text/plain": [
       "array([ True,  True, False, False,  True,  True, False, False,  True,\n",
       "        True])"
      ]
     },
     "execution_count": 59,
     "metadata": {},
     "output_type": "execute_result"
    }
   ],
   "source": [
    "narr > 50"
   ]
  },
  {
   "cell_type": "code",
   "execution_count": 60,
   "id": "7232b17a",
   "metadata": {},
   "outputs": [
    {
     "data": {
      "text/plain": [
       "array([59, 72, 62, 93, 64, 62])"
      ]
     },
     "execution_count": 60,
     "metadata": {},
     "output_type": "execute_result"
    }
   ],
   "source": [
    "narr[narr > 50]"
   ]
  },
  {
   "cell_type": "code",
   "execution_count": 61,
   "id": "bdc6c5d7",
   "metadata": {},
   "outputs": [
    {
     "data": {
      "text/plain": [
       "array([49, 41, 42, 15])"
      ]
     },
     "execution_count": 61,
     "metadata": {},
     "output_type": "execute_result"
    }
   ],
   "source": [
    "narr[narr < 50]"
   ]
  },
  {
   "cell_type": "code",
   "execution_count": 62,
   "id": "36a7b27d",
   "metadata": {},
   "outputs": [
    {
     "data": {
      "text/plain": [
       "array([], dtype=int32)"
      ]
     },
     "execution_count": 62,
     "metadata": {},
     "output_type": "execute_result"
    }
   ],
   "source": [
    "narr[narr == 95]"
   ]
  },
  {
   "cell_type": "code",
   "execution_count": 63,
   "id": "4c3e26c5",
   "metadata": {},
   "outputs": [
    {
     "name": "stdout",
     "output_type": "stream",
     "text": [
      "[59 72 62 93 64 62]\n",
      "[49 41 42 15]\n",
      "[59 72 62 93 64 62]\n",
      "[49 41 42 15]\n",
      "[59 72 49 41 62 93 42 15 64 62]\n",
      "[]\n"
     ]
    }
   ],
   "source": [
    "print(narr[narr > 50])\n",
    "print(narr[narr < 50])\n",
    "print(narr[narr >= 50])\n",
    "print(narr[narr <= 50])\n",
    "print(narr[narr != 50])\n",
    "print(narr[narr == 50])"
   ]
  },
  {
   "cell_type": "code",
   "execution_count": 64,
   "id": "91addeb6",
   "metadata": {},
   "outputs": [
    {
     "name": "stdout",
     "output_type": "stream",
     "text": [
      "[0 1 2 3 4 5 6 7 8 9]\n",
      "[ 0  2  4  6  8 10 12 14 16 18]\n",
      "[0 0 0 0 0 0 0 0 0 0]\n",
      "[ 0  1  4  9 16 25 36 49 64 81]\n"
     ]
    }
   ],
   "source": [
    "narr = np.arange(0,10)\n",
    "print(narr)\n",
    "print(narr + narr)\n",
    "print(narr - narr) \n",
    "print(narr * narr)"
   ]
  },
  {
   "cell_type": "code",
   "execution_count": 65,
   "id": "49dd071c",
   "metadata": {},
   "outputs": [
    {
     "name": "stdout",
     "output_type": "stream",
     "text": [
      "[0 1 2 3 4 5 6 7 8 9]\n",
      "[nan  1.  1.  1.  1.  1.  1.  1.  1.  1.]\n"
     ]
    },
    {
     "name": "stderr",
     "output_type": "stream",
     "text": [
      "C:\\Users\\user\\AppData\\Local\\Temp\\ipykernel_14420\\465259366.py:3: RuntimeWarning: invalid value encountered in true_divide\n",
      "  print(narr / narr)\n"
     ]
    }
   ],
   "source": [
    "narr = np.arange(0,10)\n",
    "print(narr)\n",
    "print(narr / narr) \n",
    "# RuntimeWarning: invalid value encountered in true_divide\n",
    "# narr is containing 0 element. \n",
    "# So, there is a possibility of 0/0 division which is invalid."
   ]
  },
  {
   "cell_type": "code",
   "execution_count": 66,
   "id": "d7af0c9c",
   "metadata": {},
   "outputs": [
    {
     "name": "stdout",
     "output_type": "stream",
     "text": [
      "[0 1 2 3 4 5 6 7 8 9]\n",
      "[0 1 1 1 1 1 1 1 1 1]\n"
     ]
    },
    {
     "name": "stderr",
     "output_type": "stream",
     "text": [
      "C:\\Users\\user\\AppData\\Local\\Temp\\ipykernel_14420\\1247185573.py:3: RuntimeWarning: divide by zero encountered in floor_divide\n",
      "  print(narr // narr)\n"
     ]
    }
   ],
   "source": [
    "narr = np.arange(0,10)\n",
    "print(narr)\n",
    "print(narr // narr) \n",
    "#RuntimeWarning: divide by zero encountered in floor_divide"
   ]
  },
  {
   "cell_type": "code",
   "execution_count": 67,
   "id": "0cf028fd",
   "metadata": {},
   "outputs": [
    {
     "name": "stdout",
     "output_type": "stream",
     "text": [
      "[0 1 2 3 4 5 6 7 8 9]\n",
      "[        1         1         4        27       256      3125     46656\n",
      "    823543  16777216 387420489]\n"
     ]
    }
   ],
   "source": [
    "narr = np.arange(0,10)\n",
    "print(narr)\n",
    "print(narr ** narr)"
   ]
  },
  {
   "cell_type": "code",
   "execution_count": 68,
   "id": "8f1f1bf5",
   "metadata": {},
   "outputs": [
    {
     "name": "stdout",
     "output_type": "stream",
     "text": [
      "[0 1 2 3 4 5 6 7 8 9]\n",
      "[0 0 0 0 0 0 0 0 0 0]\n"
     ]
    },
    {
     "name": "stderr",
     "output_type": "stream",
     "text": [
      "C:\\Users\\user\\AppData\\Local\\Temp\\ipykernel_14420\\1236846507.py:3: RuntimeWarning: divide by zero encountered in remainder\n",
      "  print(narr % narr)\n"
     ]
    }
   ],
   "source": [
    "narr = np.arange(0,10)\n",
    "print(narr)\n",
    "print(narr % narr)"
   ]
  },
  {
   "cell_type": "code",
   "execution_count": 69,
   "id": "cbc3593a",
   "metadata": {},
   "outputs": [
    {
     "data": {
      "text/plain": [
       "1"
      ]
     },
     "execution_count": 69,
     "metadata": {},
     "output_type": "execute_result"
    }
   ],
   "source": [
    "0 ** 0 # Python behaviour"
   ]
  },
  {
   "cell_type": "code",
   "execution_count": 70,
   "id": "613f7a0d",
   "metadata": {},
   "outputs": [
    {
     "data": {
      "text/plain": [
       "-1"
      ]
     },
     "execution_count": 70,
     "metadata": {},
     "output_type": "execute_result"
    }
   ],
   "source": [
    "-1 ** 0  # Python behaviour"
   ]
  },
  {
   "cell_type": "code",
   "execution_count": 71,
   "id": "064762df",
   "metadata": {},
   "outputs": [
    {
     "name": "stdout",
     "output_type": "stream",
     "text": [
      "[1 2 3 4 5 6 7 8 9]\n",
      "[ 2  4  6  8 10 12 14 16 18]\n",
      "[0 0 0 0 0 0 0 0 0]\n",
      "[ 1  4  9 16 25 36 49 64 81]\n",
      "[1. 1. 1. 1. 1. 1. 1. 1. 1.]\n",
      "[1 1 1 1 1 1 1 1 1]\n",
      "[0 0 0 0 0 0 0 0 0]\n",
      "[        1         4        27       256      3125     46656    823543\n",
      "  16777216 387420489]\n"
     ]
    }
   ],
   "source": [
    "narr = np.arange(1,10)\n",
    "print(narr)\n",
    "print(narr + narr)\n",
    "print(narr - narr) \n",
    "print(narr * narr)\n",
    "print(narr / narr)\n",
    "print(narr // narr)\n",
    "print(narr % narr)\n",
    "print(narr ** narr) "
   ]
  },
  {
   "cell_type": "code",
   "execution_count": 72,
   "id": "9c17b8ba",
   "metadata": {},
   "outputs": [
    {
     "name": "stdout",
     "output_type": "stream",
     "text": [
      "[0 1 2 3 4 5 6 7 8 9]\n",
      "[0.         1.         1.41421356 1.73205081 2.         2.23606798\n",
      " 2.44948974 2.64575131 2.82842712 3.        ]\n"
     ]
    }
   ],
   "source": [
    "narr = np.arange(0,10)\n",
    "print(narr)\n",
    "print(np.sqrt(narr))"
   ]
  },
  {
   "cell_type": "code",
   "execution_count": 73,
   "id": "20664455",
   "metadata": {},
   "outputs": [
    {
     "name": "stdout",
     "output_type": "stream",
     "text": [
      "[0 1 2 3 4 5 6 7 8 9]\n",
      "[ 0.          0.84147098  0.90929743  0.14112001 -0.7568025  -0.95892427\n",
      " -0.2794155   0.6569866   0.98935825  0.41211849]\n",
      "[ 1.          0.54030231 -0.41614684 -0.9899925  -0.65364362  0.28366219\n",
      "  0.96017029  0.75390225 -0.14550003 -0.91113026]\n",
      "[ 0.          1.55740772 -2.18503986 -0.14254654  1.15782128 -3.38051501\n",
      " -0.29100619  0.87144798 -6.79971146 -0.45231566]\n"
     ]
    }
   ],
   "source": [
    "narr = np.arange(0,10)\n",
    "print(narr)\n",
    "print(np.sin(narr))\n",
    "print(np.cos(narr))\n",
    "print(np.tan(narr))\n",
    "#print(np.cot(narr)) #AttributeError: module 'numpy' has no attribute 'cot'\n",
    "#print(np.sec(narr)) #AttributeError: module 'numpy' has no attribute 'sec'\n",
    "#print(np.cosec(narr)) #AttributeError: module 'numpy' has no attribute 'cosec'"
   ]
  },
  {
   "cell_type": "code",
   "execution_count": 74,
   "id": "f6085aa8",
   "metadata": {},
   "outputs": [
    {
     "name": "stderr",
     "output_type": "stream",
     "text": [
      "C:\\Users\\user\\AppData\\Local\\Temp\\ipykernel_14420\\1792657805.py:1: RuntimeWarning: divide by zero encountered in true_divide\n",
      "  1 / np.sin(narr)\n"
     ]
    },
    {
     "data": {
      "text/plain": [
       "array([        inf,  1.18839511,  1.09975017,  7.0861674 , -1.32134871,\n",
       "       -1.04283521, -3.57889955,  1.52210106,  1.01075622,  2.42648664])"
      ]
     },
     "execution_count": 74,
     "metadata": {},
     "output_type": "execute_result"
    }
   ],
   "source": [
    "1 / np.sin(narr)"
   ]
  },
  {
   "cell_type": "code",
   "execution_count": 75,
   "id": "e84a2e82",
   "metadata": {},
   "outputs": [
    {
     "name": "stdout",
     "output_type": "stream",
     "text": [
      "[0 1 2 3 4 5 6 7 8 9]\n",
      "[      -inf 0.         0.69314718 1.09861229 1.38629436 1.60943791\n",
      " 1.79175947 1.94591015 2.07944154 2.19722458]\n"
     ]
    },
    {
     "name": "stderr",
     "output_type": "stream",
     "text": [
      "C:\\Users\\user\\AppData\\Local\\Temp\\ipykernel_14420\\2329538475.py:3: RuntimeWarning: divide by zero encountered in log\n",
      "  print(np.log(narr))\n"
     ]
    }
   ],
   "source": [
    "narr = np.arange(0,10)\n",
    "print(narr)\n",
    "print(np.log(narr))"
   ]
  },
  {
   "cell_type": "code",
   "execution_count": 76,
   "id": "81a7ea5b",
   "metadata": {},
   "outputs": [
    {
     "name": "stdout",
     "output_type": "stream",
     "text": [
      "[86 96 62 36 69 98 18 20 97 99]\n",
      "[4.4543473  4.56434819 4.12713439 3.58351894 4.2341065  4.58496748\n",
      " 2.89037176 2.99573227 4.57471098 4.59511985]\n"
     ]
    }
   ],
   "source": [
    "narr = np.random.randint(1,100,10)\n",
    "print(narr)\n",
    "print(np.log(narr))"
   ]
  },
  {
   "cell_type": "markdown",
   "id": "0e3ea714",
   "metadata": {},
   "source": [
    "# Rishabh Bafna | Raman Classes, Roorkee"
   ]
  },
  {
   "cell_type": "code",
   "execution_count": null,
   "id": "ec0012eb",
   "metadata": {},
   "outputs": [],
   "source": []
  },
  {
   "cell_type": "code",
   "execution_count": null,
   "id": "1c8a90d3",
   "metadata": {},
   "outputs": [],
   "source": []
  }
 ],
 "metadata": {
  "kernelspec": {
   "display_name": "Python 3 (ipykernel)",
   "language": "python",
   "name": "python3"
  },
  "language_info": {
   "codemirror_mode": {
    "name": "ipython",
    "version": 3
   },
   "file_extension": ".py",
   "mimetype": "text/x-python",
   "name": "python",
   "nbconvert_exporter": "python",
   "pygments_lexer": "ipython3",
   "version": "3.9.12"
  }
 },
 "nbformat": 4,
 "nbformat_minor": 5
}
