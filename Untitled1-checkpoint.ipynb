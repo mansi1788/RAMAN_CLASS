{
 "cells": [
  {
   "cell_type": "code",
   "execution_count": 2,
   "id": "270fe3af",
   "metadata": {},
   "outputs": [
    {
     "name": "stdout",
     "output_type": "stream",
     "text": [
      "Requirement already satisfied: pywebio in c:\\users\\sce\\anaconda3\\lib\\site-packages (1.7.1)\n",
      "Requirement already satisfied: user-agents in c:\\users\\sce\\anaconda3\\lib\\site-packages (from pywebio) (2.2.0)\n",
      "Requirement already satisfied: tornado>=5.0 in c:\\users\\sce\\anaconda3\\lib\\site-packages (from pywebio) (6.1)\n",
      "Requirement already satisfied: ua-parser>=0.10.0 in c:\\users\\sce\\anaconda3\\lib\\site-packages (from user-agents->pywebio) (0.16.1)\n"
     ]
    }
   ],
   "source": [
    "!pip install pywebio"
   ]
  },
  {
   "cell_type": "code",
   "execution_count": null,
   "id": "4a47b263",
   "metadata": {},
   "outputs": [],
   "source": [
    "from pywebio.input import *      #import* means import everything\n",
    "from pywebio.output import *     \n",
    "from pywebio.platform.flask import webio_view       # to start the code\n",
    "from flask import Flask            #refresh\n",
    "app = Flask(__name__)\n",
    "\n",
    "def getStarted():\n",
    "    put_text('Hello World! Let\\'s get started!')  #puttext means to add text\n",
    "    \n",
    "    name = 'MANSI'\n",
    "    put_text('My name is %s'% name)\n",
    "    \n",
    "    sname='Maithani'\n",
    "    put_text('My name is %s %s'%(name, sname))\n",
    "    \n",
    "    number = 7\n",
    "    pi = 3.142\n",
    "    put_text('Number = %d ; pi value = %f'%(number,pi))\n",
    "    \n",
    "app.add_url_rule('/pywebio', 'webio_view', webio_view(getStarted), \n",
    "                 methods=['GET', 'POST', 'OPTIONS'])\n",
    "app.run(host='localhost', port=80)      #runns in local host localhost/pywebio\n",
    "\n",
    "\n"
   ]
  },
  {
   "cell_type": "code",
   "execution_count": null,
   "id": "931a619f",
   "metadata": {},
   "outputs": [],
   "source": []
  }
 ],
 "metadata": {
  "kernelspec": {
   "display_name": "Python 3 (ipykernel)",
   "language": "python",
   "name": "python3"
  },
  "language_info": {
   "codemirror_mode": {
    "name": "ipython",
    "version": 3
   },
   "file_extension": ".py",
   "mimetype": "text/x-python",
   "name": "python",
   "nbconvert_exporter": "python",
   "pygments_lexer": "ipython3",
   "version": "3.9.13"
  }
 },
 "nbformat": 4,
 "nbformat_minor": 5
}
