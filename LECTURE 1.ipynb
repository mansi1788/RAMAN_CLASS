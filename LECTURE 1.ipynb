{
 "cells": [
  {
   "cell_type": "code",
   "execution_count": 3,
   "id": "4cab95e2",
   "metadata": {},
   "outputs": [
    {
     "data": {
      "text/plain": [
       "2"
      ]
     },
     "execution_count": 3,
     "metadata": {},
     "output_type": "execute_result"
    }
   ],
   "source": [
    "1+1\n"
   ]
  },
  {
   "cell_type": "code",
   "execution_count": 5,
   "id": "45740d11",
   "metadata": {},
   "outputs": [
    {
     "data": {
      "text/plain": [
       "2"
      ]
     },
     "execution_count": 5,
     "metadata": {},
     "output_type": "execute_result"
    }
   ],
   "source": [
    "1+  1"
   ]
  },
  {
   "cell_type": "markdown",
   "id": "201fc94f",
   "metadata": {},
   "source": []
  },
  {
   "cell_type": "code",
   "execution_count": 4,
   "id": "ed33ea07",
   "metadata": {},
   "outputs": [
    {
     "data": {
      "text/plain": [
       "3"
      ]
     },
     "execution_count": 4,
     "metadata": {},
     "output_type": "execute_result"
    }
   ],
   "source": [
    "5-2"
   ]
  },
  {
   "cell_type": "markdown",
   "id": "835c3967",
   "metadata": {},
   "source": [
    "5---2"
   ]
  },
  {
   "cell_type": "code",
   "execution_count": 8,
   "id": "7964475c",
   "metadata": {},
   "outputs": [
    {
     "data": {
      "text/plain": [
       "3"
      ]
     },
     "execution_count": 8,
     "metadata": {},
     "output_type": "execute_result"
    }
   ],
   "source": [
    "5---2"
   ]
  },
  {
   "cell_type": "code",
   "execution_count": 9,
   "id": "4eb3a4f7",
   "metadata": {},
   "outputs": [
    {
     "data": {
      "text/plain": [
       "7"
      ]
     },
     "execution_count": 9,
     "metadata": {},
     "output_type": "execute_result"
    }
   ],
   "source": [
    "5----2"
   ]
  },
  {
   "cell_type": "code",
   "execution_count": 10,
   "id": "0b23786f",
   "metadata": {},
   "outputs": [
    {
     "data": {
      "text/plain": [
       "96"
      ]
     },
     "execution_count": 10,
     "metadata": {},
     "output_type": "execute_result"
    }
   ],
   "source": [
    "48*2"
   ]
  },
  {
   "cell_type": "markdown",
   "id": "7afcdcb9",
   "metadata": {},
   "source": []
  },
  {
   "cell_type": "code",
   "execution_count": 11,
   "id": "6d11c38f",
   "metadata": {},
   "outputs": [
    {
     "data": {
      "text/plain": [
       "0"
      ]
     },
     "execution_count": 11,
     "metadata": {},
     "output_type": "execute_result"
    }
   ],
   "source": [
    "8%2"
   ]
  },
  {
   "cell_type": "code",
   "execution_count": 13,
   "id": "d7e81ac7",
   "metadata": {},
   "outputs": [
    {
     "data": {
      "text/plain": [
       "4.0"
      ]
     },
     "execution_count": 13,
     "metadata": {},
     "output_type": "execute_result"
    }
   ],
   "source": [
    "8/2"
   ]
  },
  {
   "cell_type": "code",
   "execution_count": 14,
   "id": "af6d64ad",
   "metadata": {},
   "outputs": [
    {
     "ename": "ZeroDivisionError",
     "evalue": "division by zero",
     "output_type": "error",
     "traceback": [
      "\u001b[1;31m---------------------------------------------------------------------------\u001b[0m",
      "\u001b[1;31mZeroDivisionError\u001b[0m                         Traceback (most recent call last)",
      "Input \u001b[1;32mIn [14]\u001b[0m, in \u001b[0;36m<cell line: 1>\u001b[1;34m()\u001b[0m\n\u001b[1;32m----> 1\u001b[0m \u001b[38;5;241;43m8\u001b[39;49m\u001b[38;5;241;43m/\u001b[39;49m\u001b[38;5;241;43m0\u001b[39;49m\n",
      "\u001b[1;31mZeroDivisionError\u001b[0m: division by zero"
     ]
    }
   ],
   "source": [
    "8/0"
   ]
  },
  {
   "cell_type": "code",
   "execution_count": 15,
   "id": "7134540c",
   "metadata": {},
   "outputs": [
    {
     "data": {
      "text/plain": [
       "2.3333333333333335"
      ]
     },
     "execution_count": 15,
     "metadata": {},
     "output_type": "execute_result"
    }
   ],
   "source": [
    "7/3"
   ]
  },
  {
   "cell_type": "code",
   "execution_count": 16,
   "id": "4ebec679",
   "metadata": {},
   "outputs": [
    {
     "data": {
      "text/plain": [
       "3"
      ]
     },
     "execution_count": 16,
     "metadata": {},
     "output_type": "execute_result"
    }
   ],
   "source": [
    "7//2\n"
   ]
  },
  {
   "cell_type": "markdown",
   "id": "a0d44ad2",
   "metadata": {},
   "source": [
    "## "
   ]
  },
  {
   "cell_type": "code",
   "execution_count": 18,
   "id": "e4c824d4",
   "metadata": {},
   "outputs": [
    {
     "data": {
      "text/plain": [
       "1"
      ]
     },
     "execution_count": 18,
     "metadata": {},
     "output_type": "execute_result"
    }
   ],
   "source": [
    "7%2"
   ]
  },
  {
   "cell_type": "code",
   "execution_count": 19,
   "id": "99f631db",
   "metadata": {},
   "outputs": [
    {
     "ename": "ZeroDivisionError",
     "evalue": "integer division or modulo by zero",
     "output_type": "error",
     "traceback": [
      "\u001b[1;31m---------------------------------------------------------------------------\u001b[0m",
      "\u001b[1;31mZeroDivisionError\u001b[0m                         Traceback (most recent call last)",
      "Input \u001b[1;32mIn [19]\u001b[0m, in \u001b[0;36m<cell line: 1>\u001b[1;34m()\u001b[0m\n\u001b[1;32m----> 1\u001b[0m \u001b[38;5;241;43m7\u001b[39;49m\u001b[38;5;241;43m%\u001b[39;49m\u001b[38;5;241;43m0\u001b[39;49m\n",
      "\u001b[1;31mZeroDivisionError\u001b[0m: integer division or modulo by zero"
     ]
    }
   ],
   "source": [
    "7%0"
   ]
  },
  {
   "cell_type": "code",
   "execution_count": 20,
   "id": "445ac85f",
   "metadata": {},
   "outputs": [
    {
     "data": {
      "text/plain": [
       "49"
      ]
     },
     "execution_count": 20,
     "metadata": {},
     "output_type": "execute_result"
    }
   ],
   "source": [
    "7**2"
   ]
  },
  {
   "cell_type": "code",
   "execution_count": 21,
   "id": "2112a1e9",
   "metadata": {},
   "outputs": [
    {
     "data": {
      "text/plain": [
       "343"
      ]
     },
     "execution_count": 21,
     "metadata": {},
     "output_type": "execute_result"
    }
   ],
   "source": [
    "7**3"
   ]
  },
  {
   "cell_type": "code",
   "execution_count": 22,
   "id": "771232e9",
   "metadata": {},
   "outputs": [
    {
     "data": {
      "text/plain": [
       "7.0"
      ]
     },
     "execution_count": 22,
     "metadata": {},
     "output_type": "execute_result"
    }
   ],
   "source": [
    "49**0.5"
   ]
  },
  {
   "cell_type": "code",
   "execution_count": 23,
   "id": "d9f543d5",
   "metadata": {},
   "outputs": [
    {
     "data": {
      "text/plain": [
       "24.5"
      ]
     },
     "execution_count": 23,
     "metadata": {},
     "output_type": "execute_result"
    }
   ],
   "source": [
    "49**1/2  # precedence of ** is greater than /"
   ]
  },
  {
   "cell_type": "markdown",
   "id": "a6585a98",
   "metadata": {},
   "source": [
    "8^2 "
   ]
  },
  {
   "cell_type": "code",
   "execution_count": 24,
   "id": "f93dd429",
   "metadata": {},
   "outputs": [
    {
     "data": {
      "text/plain": [
       "7.0"
      ]
     },
     "execution_count": 24,
     "metadata": {},
     "output_type": "execute_result"
    }
   ],
   "source": [
    "49**(1/2) "
   ]
  },
  {
   "cell_type": "code",
   "execution_count": 25,
   "id": "326b7b9e",
   "metadata": {},
   "outputs": [
    {
     "data": {
      "text/plain": [
       "0"
      ]
     },
     "execution_count": 25,
     "metadata": {},
     "output_type": "execute_result"
    }
   ],
   "source": [
    "8&2"
   ]
  },
  {
   "cell_type": "code",
   "execution_count": 26,
   "id": "a5a24e95",
   "metadata": {},
   "outputs": [
    {
     "data": {
      "text/plain": [
       "10"
      ]
     },
     "execution_count": 26,
     "metadata": {},
     "output_type": "execute_result"
    }
   ],
   "source": [
    "8|2"
   ]
  },
  {
   "cell_type": "code",
   "execution_count": 27,
   "id": "3acacd55",
   "metadata": {},
   "outputs": [
    {
     "data": {
      "text/plain": [
       "10"
      ]
     },
     "execution_count": 27,
     "metadata": {},
     "output_type": "execute_result"
    }
   ],
   "source": [
    "8^2"
   ]
  },
  {
   "cell_type": "code",
   "execution_count": 28,
   "id": "26003f4a",
   "metadata": {},
   "outputs": [
    {
     "data": {
      "text/plain": [
       "32"
      ]
     },
     "execution_count": 28,
     "metadata": {},
     "output_type": "execute_result"
    }
   ],
   "source": [
    "8<<2"
   ]
  },
  {
   "cell_type": "code",
   "execution_count": 29,
   "id": "8f41d21e",
   "metadata": {},
   "outputs": [
    {
     "data": {
      "text/plain": [
       "256"
      ]
     },
     "execution_count": 29,
     "metadata": {},
     "output_type": "execute_result"
    }
   ],
   "source": [
    "32<<3"
   ]
  },
  {
   "cell_type": "code",
   "execution_count": 31,
   "id": "06e831d1",
   "metadata": {},
   "outputs": [
    {
     "data": {
      "text/plain": [
       "2"
      ]
     },
     "execution_count": 31,
     "metadata": {},
     "output_type": "execute_result"
    }
   ],
   "source": [
    "8>>2"
   ]
  },
  {
   "cell_type": "code",
   "execution_count": 33,
   "id": "a42e70af",
   "metadata": {},
   "outputs": [
    {
     "data": {
      "text/plain": [
       "4"
      ]
     },
     "execution_count": 33,
     "metadata": {},
     "output_type": "execute_result"
    }
   ],
   "source": [
    "32>>3"
   ]
  },
  {
   "cell_type": "code",
   "execution_count": 34,
   "id": "cdee84c1",
   "metadata": {},
   "outputs": [
    {
     "data": {
      "text/plain": [
       "0"
      ]
     },
     "execution_count": 34,
     "metadata": {},
     "output_type": "execute_result"
    }
   ],
   "source": [
    "8>>4"
   ]
  },
  {
   "cell_type": "code",
   "execution_count": 36,
   "id": "606f4d8d",
   "metadata": {},
   "outputs": [
    {
     "data": {
      "text/plain": [
       "35"
      ]
     },
     "execution_count": 36,
     "metadata": {},
     "output_type": "execute_result"
    }
   ],
   "source": [
    "8**2//2+3"
   ]
  },
  {
   "cell_type": "code",
   "execution_count": null,
   "id": "afac847f",
   "metadata": {},
   "outputs": [],
   "source": [
    "## Print function"
   ]
  },
  {
   "cell_type": "code",
   "execution_count": 38,
   "id": "b1d75240",
   "metadata": {},
   "outputs": [
    {
     "data": {
      "text/plain": [
       "512"
      ]
     },
     "execution_count": 38,
     "metadata": {},
     "output_type": "execute_result"
    }
   ],
   "source": [
    "2 ** 3** 2 # ** is right asssociative"
   ]
  },
  {
   "cell_type": "code",
   "execution_count": 39,
   "id": "29148612",
   "metadata": {},
   "outputs": [
    {
     "data": {
      "text/plain": [
       "-2"
      ]
     },
     "execution_count": 39,
     "metadata": {},
     "output_type": "execute_result"
    }
   ],
   "source": [
    "45 //5+3 & 2|1-3"
   ]
  },
  {
   "cell_type": "code",
   "execution_count": 40,
   "id": "97a6f6ac",
   "metadata": {},
   "outputs": [
    {
     "name": "stdout",
     "output_type": "stream",
     "text": [
      "10\n"
     ]
    }
   ],
   "source": [
    "x=10\n",
    "print(x)"
   ]
  },
  {
   "cell_type": "markdown",
   "id": "2360d1ab",
   "metadata": {},
   "source": [
    "x=10\n",
    "print('the value of x is', x)\n",
    "print(f'the value of x is {x}')\n",
    "print('the value of x is '+ str (x))\n",
    "print('the value of x is {}'.format (x))"
   ]
  },
  {
   "cell_type": "code",
   "execution_count": 94,
   "id": "6c2e9167",
   "metadata": {},
   "outputs": [
    {
     "name": "stdout",
     "output_type": "stream",
     "text": [
      "I like apple,banana,and mango\n",
      "I like apple,banana,and mango\n",
      "I like apple,banana,and mango\n",
      "I like apple , banana ,and mango\n",
      "I like apple,banana,and mango\n"
     ]
    }
   ],
   "source": [
    "fruit1 ='apple'\n",
    "fruit2 ='banana'\n",
    "fruit3 ='mango'\n",
    "print('I like {},{},and {}'.format (fruit1,fruit2,fruit3))\n",
    "print('I like {0},{1},and {2}'.format (fruit1,fruit2,fruit3))\n",
    "print(f'I like {fruit1},{fruit2},and {fruit3}')\n",
    "print('I like',fruit1,',',fruit2,',and',fruit3)\n",
    "print('I like '+fruit1+','+fruit2+',and '+fruit3)"
   ]
  },
  {
   "cell_type": "markdown",
   "id": "5b946ea0",
   "metadata": {},
   "source": [
    "#comment "
   ]
  },
  {
   "cell_type": "code",
   "execution_count": 95,
   "id": "3fe506fd",
   "metadata": {},
   "outputs": [
    {
     "name": "stdout",
     "output_type": "stream",
     "text": [
      "HELLO WORLD!\n"
     ]
    }
   ],
   "source": [
    "print ('HELLO WORLD!')"
   ]
  },
  {
   "cell_type": "code",
   "execution_count": null,
   "id": "405d4f52",
   "metadata": {},
   "outputs": [],
   "source": [
    "#'ctrl +/' to comment or uncomment the selected code\n",
    "# COMMENT 1\n",
    "# COMMENT 2\n",
    "# COMMENT 3\n",
    "# print('hello world\");\n"
   ]
  },
  {
   "cell_type": "markdown",
   "id": "b15b27eb",
   "metadata": {},
   "source": [
    "# if else;if elif else"
   ]
  },
  {
   "cell_type": "code",
   "execution_count": 65,
   "id": "62725941",
   "metadata": {},
   "outputs": [
    {
     "name": "stdout",
     "output_type": "stream",
     "text": [
      "7 odd  number\n"
     ]
    }
   ],
   "source": [
    "# Evewn or odd\n",
    "num=7\n",
    "if(num%2==0):\n",
    "    print(num,'Even number')\n",
    "else:\n",
    "    print(num,'odd  number')\n"
   ]
  },
  {
   "cell_type": "markdown",
   "id": "0f149f17",
   "metadata": {},
   "source": [
    "# traffic lights logic\n",
    "color = 'green'\n",
    "if(color == 'red'):\n",
    "    print('Stop')\n",
    "elif(color == 'green'):\n",
    "    print('Go')\n",
    "else:\n",
    "    print('Get ready')"
   ]
  },
  {
   "cell_type": "markdown",
   "id": "d7d98c1c",
   "metadata": {},
   "source": [
    "#input"
   ]
  },
  {
   "cell_type": "markdown",
   "id": "90aff507",
   "metadata": {},
   "source": [
    "x=input('Enter the number: ')\n",
    "print(type(x))\n",
    "print(x)\n",
    "print(int(x)+9)\n",
    "print(x*16)"
   ]
  },
  {
   "cell_type": "markdown",
   "id": "ea701fa3",
   "metadata": {},
   "source": [
    "# type conversion\n"
   ]
  },
  {
   "cell_type": "code",
   "execution_count": 87,
   "id": "701d9c2a",
   "metadata": {},
   "outputs": [
    {
     "data": {
      "text/plain": [
       "int"
      ]
     },
     "execution_count": 87,
     "metadata": {},
     "output_type": "execute_result"
    }
   ],
   "source": [
    "x=10\n",
    "type(x)"
   ]
  },
  {
   "cell_type": "code",
   "execution_count": 89,
   "id": "8479b5ab",
   "metadata": {},
   "outputs": [
    {
     "data": {
      "text/plain": [
       "float"
      ]
     },
     "execution_count": 89,
     "metadata": {},
     "output_type": "execute_result"
    }
   ],
   "source": [
    "x=3.14\n",
    "type(x)"
   ]
  },
  {
   "cell_type": "code",
   "execution_count": 91,
   "id": "f90c08cf",
   "metadata": {},
   "outputs": [
    {
     "data": {
      "text/plain": [
       "int"
      ]
     },
     "execution_count": 91,
     "metadata": {},
     "output_type": "execute_result"
    }
   ],
   "source": [
    "type(1) "
   ]
  },
  {
   "cell_type": "code",
   "execution_count": 93,
   "id": "8d7272c0",
   "metadata": {},
   "outputs": [
    {
     "name": "stdout",
     "output_type": "stream",
     "text": [
      "<class 'int'>\n"
     ]
    }
   ],
   "source": [
    "print(type(1))  ## everything is object in python"
   ]
  },
  {
   "cell_type": "code",
   "execution_count": null,
   "id": "528a1127",
   "metadata": {},
   "outputs": [],
   "source": [
    "Comment line 1\n"
   ]
  },
  {
   "cell_type": "code",
   "execution_count": 72,
   "id": "82c3c615",
   "metadata": {},
   "outputs": [
    {
     "data": {
      "text/plain": [
       "4"
      ]
     },
     "execution_count": 72,
     "metadata": {},
     "output_type": "execute_result"
    }
   ],
   "source": [
    "int(4.5)"
   ]
  },
  {
   "cell_type": "code",
   "execution_count": 73,
   "id": "fe83c535",
   "metadata": {},
   "outputs": [
    {
     "data": {
      "text/plain": [
       "99"
      ]
     },
     "execution_count": 73,
     "metadata": {},
     "output_type": "execute_result"
    }
   ],
   "source": [
    "int(99)"
   ]
  },
  {
   "cell_type": "code",
   "execution_count": 74,
   "id": "79948f98",
   "metadata": {},
   "outputs": [
    {
     "data": {
      "text/plain": [
       "4"
      ]
     },
     "execution_count": 74,
     "metadata": {},
     "output_type": "execute_result"
    }
   ],
   "source": [
    "int(4.9)"
   ]
  },
  {
   "cell_type": "code",
   "execution_count": 75,
   "id": "7416b7de",
   "metadata": {},
   "outputs": [
    {
     "data": {
      "text/plain": [
       "99.0"
      ]
     },
     "execution_count": 75,
     "metadata": {},
     "output_type": "execute_result"
    }
   ],
   "source": [
    "float(99)"
   ]
  },
  {
   "cell_type": "code",
   "execution_count": 76,
   "id": "ff8fc735",
   "metadata": {},
   "outputs": [
    {
     "ename": "TypeError",
     "evalue": "an integer is required (got type str)",
     "output_type": "error",
     "traceback": [
      "\u001b[1;31m---------------------------------------------------------------------------\u001b[0m",
      "\u001b[1;31mTypeError\u001b[0m                                 Traceback (most recent call last)",
      "Input \u001b[1;32mIn [76]\u001b[0m, in \u001b[0;36m<cell line: 1>\u001b[1;34m()\u001b[0m\n\u001b[1;32m----> 1\u001b[0m \u001b[38;5;28;43mchr\u001b[39;49m\u001b[43m(\u001b[49m\u001b[38;5;124;43m'\u001b[39;49m\u001b[38;5;124;43mA\u001b[39;49m\u001b[38;5;124;43m'\u001b[39;49m\u001b[43m)\u001b[49m\n",
      "\u001b[1;31mTypeError\u001b[0m: an integer is required (got type str)"
     ]
    }
   ],
   "source": [
    "chr('A')"
   ]
  },
  {
   "cell_type": "code",
   "execution_count": 78,
   "id": "5869ec0b",
   "metadata": {},
   "outputs": [],
   "source": [
    "#ASSII(A)=65\n",
    "#ASCII(a)=97"
   ]
  },
  {
   "cell_type": "code",
   "execution_count": 79,
   "id": "d2ec0f9d",
   "metadata": {},
   "outputs": [
    {
     "data": {
      "text/plain": [
       "'A'"
      ]
     },
     "execution_count": 79,
     "metadata": {},
     "output_type": "execute_result"
    }
   ],
   "source": [
    "chr(65)"
   ]
  },
  {
   "cell_type": "code",
   "execution_count": 80,
   "id": "e8003a22",
   "metadata": {},
   "outputs": [
    {
     "data": {
      "text/plain": [
       "'a'"
      ]
     },
     "execution_count": 80,
     "metadata": {},
     "output_type": "execute_result"
    }
   ],
   "source": [
    "chr(97)"
   ]
  },
  {
   "cell_type": "code",
   "execution_count": 82,
   "id": "5b1824c5",
   "metadata": {},
   "outputs": [
    {
     "data": {
      "text/plain": [
       "65"
      ]
     },
     "execution_count": 82,
     "metadata": {},
     "output_type": "execute_result"
    }
   ],
   "source": [
    "ord('A')\n",
    "\n"
   ]
  },
  {
   "cell_type": "code",
   "execution_count": 83,
   "id": "19e7d162",
   "metadata": {},
   "outputs": [
    {
     "data": {
      "text/plain": [
       "'65'"
      ]
     },
     "execution_count": 83,
     "metadata": {},
     "output_type": "execute_result"
    }
   ],
   "source": [
    "ascii(65)"
   ]
  },
  {
   "cell_type": "code",
   "execution_count": 84,
   "id": "c28b357e",
   "metadata": {},
   "outputs": [
    {
     "data": {
      "text/plain": [
       "'0o40'"
      ]
     },
     "execution_count": 84,
     "metadata": {},
     "output_type": "execute_result"
    }
   ],
   "source": [
    "\n",
    "oct(32)\n"
   ]
  },
  {
   "cell_type": "code",
   "execution_count": 85,
   "id": "6e0bb0fb",
   "metadata": {},
   "outputs": [
    {
     "data": {
      "text/plain": [
       "'0x20'"
      ]
     },
     "execution_count": 85,
     "metadata": {},
     "output_type": "execute_result"
    }
   ],
   "source": [
    "hex(32)"
   ]
  },
  {
   "cell_type": "markdown",
   "id": "127ea4ec",
   "metadata": {},
   "source": []
  },
  {
   "cell_type": "code",
   "execution_count": 86,
   "id": "2d0f6eb3",
   "metadata": {},
   "outputs": [
    {
     "name": "stdout",
     "output_type": "stream",
     "text": [
      "Enter the number:44\n",
      "<class 'int'>\n",
      "The entered number is44\n"
     ]
    }
   ],
   "source": [
    "x=int(input('Enter the number:'))\n",
    "print(type(x))\n",
    "print(f'The entered number is{x}')"
   ]
  },
  {
   "cell_type": "markdown",
   "id": "0745735a",
   "metadata": {},
   "source": [
    "# loops\n"
   ]
  },
  {
   "cell_type": "code",
   "execution_count": 96,
   "id": "4246efce",
   "metadata": {},
   "outputs": [
    {
     "name": "stdout",
     "output_type": "stream",
     "text": [
      "0\n",
      "1\n",
      "2\n",
      "3\n",
      "4\n"
     ]
    }
   ],
   "source": [
    "for i in range(5):\n",
    "    print(i)"
   ]
  },
  {
   "cell_type": "code",
   "execution_count": 98,
   "id": "e13a3fff",
   "metadata": {},
   "outputs": [
    {
     "name": "stdout",
     "output_type": "stream",
     "text": [
      "0 1 2 3 4 "
     ]
    }
   ],
   "source": [
    "for i in range(5):\n",
    "    print(i,end=' ')"
   ]
  },
  {
   "cell_type": "code",
   "execution_count": 100,
   "id": "74fc22d2",
   "metadata": {},
   "outputs": [
    {
     "name": "stdout",
     "output_type": "stream",
     "text": [
      "01234"
     ]
    }
   ],
   "source": [
    "for i in range(0,5):\n",
    "    print(i, end=' ')"
   ]
  },
  {
   "cell_type": "code",
   "execution_count": 103,
   "id": "f1217362",
   "metadata": {},
   "outputs": [
    {
     "name": "stdout",
     "output_type": "stream",
     "text": [
      "0 1 2 3 4 "
     ]
    }
   ],
   "source": [
    "for i in range(0,5,1):\n",
    "    print(i, end=' ')"
   ]
  },
  {
   "cell_type": "code",
   "execution_count": null,
   "id": "9c35e140",
   "metadata": {},
   "outputs": [],
   "source": [
    "# *\n",
    "# **\n",
    "# ***\n",
    "# ****\n"
   ]
  },
  {
   "cell_type": "code",
   "execution_count": 109,
   "id": "80aefc87",
   "metadata": {},
   "outputs": [
    {
     "name": "stdout",
     "output_type": "stream",
     "text": [
      "*\n",
      "**\n",
      "***\n",
      "****\n",
      "*****\n"
     ]
    }
   ],
   "source": [
    "for i in range(5):\n",
    "    for j in range(i+1):\n",
    "        print('*',end = '')\n",
    "    print()"
   ]
  },
  {
   "cell_type": "raw",
   "id": "accbab05",
   "metadata": {},
   "source": [
    "ro"
   ]
  },
  {
   "cell_type": "code",
   "execution_count": 111,
   "id": "4d618b7b",
   "metadata": {},
   "outputs": [
    {
     "name": "stdout",
     "output_type": "stream",
     "text": [
      "*\n",
      "**\n",
      "***\n",
      "****\n",
      "*****\n"
     ]
    }
   ],
   "source": [
    "rows = 5\n",
    "print_count=1\n",
    "for i in range(rows):\n",
    "    for j in range (print_count):\n",
    "        print('*',end ='')\n",
    "    print_count = print_count+1\n",
    "    print()"
   ]
  },
  {
   "cell_type": "code",
   "execution_count": 114,
   "id": "4ecddb28",
   "metadata": {},
   "outputs": [
    {
     "name": "stdout",
     "output_type": "stream",
     "text": [
      "0\n",
      "11\n",
      "222\n",
      "3333\n",
      "44444\n"
     ]
    }
   ],
   "source": [
    "rows = 5\n",
    "print_count=1\n",
    "for i in range(rows):\n",
    "    for j in range (print_count):\n",
    "        print(i,end ='')\n",
    "    print_count = print_count+1\n",
    "    print()"
   ]
  },
  {
   "cell_type": "code",
   "execution_count": 115,
   "id": "869d9391",
   "metadata": {},
   "outputs": [
    {
     "name": "stdout",
     "output_type": "stream",
     "text": [
      "0\n",
      "01\n",
      "012\n",
      "0123\n",
      "01234\n"
     ]
    }
   ],
   "source": [
    "rows = 5\n",
    "print_count=1\n",
    "for i in range(rows):\n",
    "    for j in range (print_count):\n",
    "        print(j,end ='')\n",
    "    print_count = print_count+1\n",
    "    print()"
   ]
  },
  {
   "cell_type": "code",
   "execution_count": 116,
   "id": "83488e4e",
   "metadata": {},
   "outputs": [
    {
     "name": "stdout",
     "output_type": "stream",
     "text": [
      "A\n",
      "AA\n",
      "AAA\n",
      "AAAA\n",
      "AAAAA\n"
     ]
    }
   ],
   "source": [
    "rows = 5\n",
    "print_count=1\n",
    "count=65\n",
    "for i in range(rows):\n",
    "    for j in range (print_count):\n",
    "        print(chr(count),end ='')\n",
    "    print_count = print_count+1\n",
    "    print()\n",
    "\n"
   ]
  },
  {
   "cell_type": "code",
   "execution_count": 117,
   "id": "774ebaf7",
   "metadata": {},
   "outputs": [
    {
     "name": "stdout",
     "output_type": "stream",
     "text": [
      "A\n",
      "BB\n",
      "CCC\n",
      "DDDD\n",
      "EEEEE\n"
     ]
    }
   ],
   "source": [
    "rows = 5\n",
    "print_count=1\n",
    "count = 65\n",
    "for i in range(rows):\n",
    "    for j in range (print_count):\n",
    "        print(chr(count),end ='')\n",
    "    print_count = print_count+1\n",
    "    count=count+1\n",
    "    print()"
   ]
  },
  {
   "cell_type": "code",
   "execution_count": null,
   "id": "b277646d",
   "metadata": {},
   "outputs": [],
   "source": [
    "rows = 5\n",
    "print_count=1\n",
    "count = 65\n",
    "for i in range(rows):\n",
    "    for j in range (print_count):\n",
    "        print(chr(count),end ='')\n",
    "    print_count = print_count+1\n",
    "    count=count+1\n",
    "    print()"
   ]
  },
  {
   "cell_type": "code",
   "execution_count": 120,
   "id": "01fd00a6",
   "metadata": {},
   "outputs": [
    {
     "name": "stdout",
     "output_type": "stream",
     "text": [
      "7\n",
      "99\n",
      "777\n",
      "9999\n",
      "77777\n",
      "999999\n",
      "7777777\n",
      "99999999\n",
      "777777777\n",
      "9999999999\n"
     ]
    }
   ],
   "source": [
    "rows = 10\n",
    "print_count=1\n",
    "count = 65\n",
    "for i in range(rows):\n",
    "    for j in range (print_count):\n",
    "        if(i%2==0):\n",
    "            print(7,end ='')\n",
    "        else:\n",
    "            print('9',end='')\n",
    "    print_count = print_count+1\n",
    "    count=count+1\n",
    "    print()"
   ]
  },
  {
   "cell_type": "code",
   "execution_count": 125,
   "id": "2a1241e2",
   "metadata": {},
   "outputs": [
    {
     "name": "stdout",
     "output_type": "stream",
     "text": [
      "*\n",
      "**\n",
      "***\n",
      "****\n",
      "*****\n"
     ]
    }
   ],
   "source": [
    "rows = 5\n",
    "spaces =rows-1\n",
    "\n",
    "print_count=1\n",
    "count=\n",
    "for i in range(rows):\n",
    "    for j in range (spaces):\n",
    "        print(end ='')\n",
    "    spaces=spaces - 1\n",
    "    for j in range(print_count):\n",
    "        print('*',end = '')\n",
    "    print_count = print_count +1   \n",
    "    print()"
   ]
  },
  {
   "cell_type": "code",
   "execution_count": 5,
   "id": "ff51e997",
   "metadata": {},
   "outputs": [
    {
     "name": "stdout",
     "output_type": "stream",
     "text": [
      "    *\n",
      "   ***\n",
      "  *****\n",
      " *******\n",
      "*********\n"
     ]
    }
   ],
   "source": [
    "rows = 5\n",
    "spaces = rows -1\n",
    "print_count =1\n",
    "for i in range(rows):\n",
    "    for j in range(spaces):\n",
    "        print(end =' ')\n",
    "    spaces-=1\n",
    "    for j in range(print_count):\n",
    "        print('*',end='')\n",
    "    print_count+=2\n",
    "    print()\n",
    "    \n",
    "    "
   ]
  },
  {
   "cell_type": "code",
   "execution_count": 6,
   "id": "b70b6cb4",
   "metadata": {},
   "outputs": [
    {
     "name": "stdout",
     "output_type": "stream",
     "text": [
      "*********\n",
      " *******\n",
      "  *****\n",
      "   ***\n",
      "    *\n"
     ]
    }
   ],
   "source": [
    "rows=5\n",
    "spaces=0\n",
    "print_count=2*rows-1\n",
    "for i in range(rows):\n",
    "    for j in range (spaces):\n",
    "        print(end=' ')\n",
    "    spaces=spaces+1\n",
    "    for j in range (print_count):\n",
    "        print('*',end ='')\n",
    "    print_count=print_count-2\n",
    "    print()"
   ]
  },
  {
   "cell_type": "code",
   "execution_count": 12,
   "id": "eedc1f24",
   "metadata": {},
   "outputs": [
    {
     "name": "stdout",
     "output_type": "stream",
     "text": [
      "*******************\n",
      " *****************\n",
      "  ***************\n",
      "   *************\n",
      "    ***********\n",
      "     *********\n",
      "      *******\n",
      "       *****\n",
      "        ***\n",
      "         *\n"
     ]
    }
   ],
   "source": [
    "\n",
    "rows=10\n",
    "spaces=0\n",
    "print_count=2*rows-1\n",
    "for i in range(rows):\n",
    "    for j in range (spaces):\n",
    "        print('',end=' ')\n",
    "    spaces=spaces+1\n",
    "    for j in range (print_count):\n",
    "        print('*',end ='')\n",
    "    print_count=print_count-2\n",
    "    print()"
   ]
  },
  {
   "cell_type": "code",
   "execution_count": 16,
   "id": "09e502db",
   "metadata": {},
   "outputs": [
    {
     "name": "stdout",
     "output_type": "stream",
     "text": [
      "0000000000000000000\n",
      " 11111111111111111\n",
      "  222222222222222\n",
      "   3333333333333\n",
      "    44444444444\n",
      "     555555555\n",
      "      6666666\n",
      "       77777\n",
      "        888\n",
      "         9\n"
     ]
    }
   ],
   "source": [
    "rows=10\n",
    "spaces=0\n",
    "print_count=2*rows-1\n",
    "for i in range(rows):\n",
    "    for j in range (spaces):\n",
    "        print('',end=' ')\n",
    "    spaces=spaces+1\n",
    "    for j in range (print_count):\n",
    "        print(i,end ='')\n",
    "    print_count=print_count-2\n",
    "    print()"
   ]
  },
  {
   "cell_type": "code",
   "execution_count": 17,
   "id": "1ba9545b",
   "metadata": {},
   "outputs": [
    {
     "name": "stdout",
     "output_type": "stream",
     "text": [
      "1111111111111111111\n",
      " 22222222222222222\n",
      "  333333333333333\n",
      "   4444444444444\n",
      "    55555555555\n",
      "     666666666\n",
      "      7777777\n",
      "       88888\n",
      "        999\n",
      "         10\n"
     ]
    }
   ],
   "source": [
    "rows=10\n",
    "spaces=0\n",
    "print_count=2*rows-1\n",
    "for i in range(rows):\n",
    "    for j in range (spaces):\n",
    "        print('',end=' ')\n",
    "    spaces=spaces+1\n",
    "    for j in range (print_count):\n",
    "        print(i+1,end ='')\n",
    "    print_count=print_count-2\n",
    "    print()"
   ]
  },
  {
   "cell_type": "code",
   "execution_count": 20,
   "id": "de333fe0",
   "metadata": {},
   "outputs": [
    {
     "name": "stdout",
     "output_type": "stream",
     "text": [
      "0123456789101112131415161718\n",
      " 012345678910111213141516\n",
      "  01234567891011121314\n",
      "   0123456789101112\n",
      "    012345678910\n",
      "     012345678\n",
      "      0123456\n",
      "       01234\n",
      "        012\n",
      "         0\n"
     ]
    }
   ],
   "source": [
    "rows=10\n",
    "spaces=0\n",
    "print_count=2*rows-1\n",
    "for i in range(rows):\n",
    "    for j in range (spaces):\n",
    "        print('',end=' ')\n",
    "    spaces=spaces+1\n",
    "    for j in range (print_count):\n",
    "        print(i,end ='')\n",
    "    print_count=print_count-2\n",
    "    print()"
   ]
  },
  {
   "cell_type": "code",
   "execution_count": 21,
   "id": "99b17633",
   "metadata": {},
   "outputs": [
    {
     "name": "stdout",
     "output_type": "stream",
     "text": [
      "0000000000000000000\n",
      " 11111111111111111\n",
      "  222222222222222\n",
      "   3333333333333\n",
      "    44444444444\n",
      "     555555555\n",
      "      6666666\n",
      "       77777\n",
      "        888\n",
      "         9\n"
     ]
    }
   ],
   "source": [
    "rows=10\n",
    "spaces=0\n",
    "print_count=2*rows-1\n",
    "for i in range(rows):\n",
    "    for j in range (spaces):\n",
    "        print('',end=' ')\n",
    "    spaces=spaces+1\n",
    "    for j in range (print_count):\n",
    "        print(i,end ='')\n",
    "    print_count=print_count-2\n",
    "    print()"
   ]
  },
  {
   "cell_type": "code",
   "execution_count": 23,
   "id": "2c298417",
   "metadata": {},
   "outputs": [
    {
     "name": "stdout",
     "output_type": "stream",
     "text": [
      "012345678\n",
      " 0123456\n",
      "  01234\n",
      "   012\n",
      "    0\n"
     ]
    }
   ],
   "source": [
    "rows=5\n",
    "spaces=0\n",
    "print_count=2*rows-1\n",
    "for i in range(rows):\n",
    "    for j in range (spaces):\n",
    "        print('',end=' ')\n",
    "    spaces=spaces+1\n",
    "    for j in range (print_count):\n",
    "        print(j,end ='')\n",
    "    print_count=print_count-2\n",
    "    print()"
   ]
  },
  {
   "cell_type": "code",
   "execution_count": 25,
   "id": "2a699c88",
   "metadata": {},
   "outputs": [
    {
     "name": "stdout",
     "output_type": "stream",
     "text": [
      "AAAAAAAAA\n",
      " AAAAAAA\n",
      "  AAAAA\n",
      "   AAA\n",
      "    A\n"
     ]
    }
   ],
   "source": [
    "rows=5\n",
    "spaces=0\n",
    "print_count=2*rows-1\n",
    "count=65\n",
    "for i in range(rows):\n",
    "    for j in range (spaces):\n",
    "        print('',end=' ')\n",
    "    spaces=spaces+1\n",
    "    for j in range (print_count):\n",
    "        print(chr(count),end ='')\n",
    "    print_count=print_count-2\n",
    "    print()\n",
    "\n",
    "\n"
   ]
  },
  {
   "cell_type": "code",
   "execution_count": 30,
   "id": "39eb2fd0",
   "metadata": {},
   "outputs": [
    {
     "name": "stdout",
     "output_type": "stream",
     "text": [
      "AAAAAAAAA\n",
      " BBBBBBB\n",
      "  CCCCC\n",
      "   DDD\n",
      "    E\n"
     ]
    }
   ],
   "source": [
    "rows=5\n",
    "spaces=0\n",
    "print_count=2*rows-1\n",
    "count=65\n",
    "for i in range(rows):\n",
    "    for j in range (spaces):\n",
    "        print('',end=' ')\n",
    "    spaces=spaces+1\n",
    "    for j in range (print_count):\n",
    "        print(chr(count),end ='')\n",
    "    print_count=print_count-2\n",
    "    count=count+1\n",
    "    print()\n",
    "\n",
    "\n",
    "\n"
   ]
  },
  {
   "cell_type": "code",
   "execution_count": 32,
   "id": "46bb5e2e",
   "metadata": {},
   "outputs": [
    {
     "name": "stdout",
     "output_type": "stream",
     "text": [
      "ABCDEFGHIJKLMNOPQRS\n",
      " TUVWXYZ[\\]^_`abcd\n",
      "  efghijklmnopqrs\n",
      "   tuvwxyz{|}~\n",
      "    ",
      "\n",
      "     \n",
      "      \n",
      "        \n",
      "        ¡¢£\n",
      "         ¤\n"
     ]
    }
   ],
   "source": [
    "rows=5\n",
    "spaces=0\n",
    "print_count=2*rows-1\n",
    "count=65\n",
    "for i in range(rows):\n",
    "    for j in range (spaces):\n",
    "        print('',end=' ')\n",
    "    spaces=spaces+1\n",
    "    for j in range (print_count):\n",
    "        print(chr(count),end ='')\n",
    "        count=count+1\n",
    "    print_count=print_count-2\n",
    "    print()\n"
   ]
  },
  {
   "cell_type": "code",
   "execution_count": 33,
   "id": "99b55f26",
   "metadata": {},
   "outputs": [
    {
     "name": "stdout",
     "output_type": "stream",
     "text": [
      "ABCDEFGHI\n",
      " JKLMNOP\n",
      "  QRSTU\n",
      "   VWX\n",
      "    Y\n"
     ]
    }
   ],
   "source": [
    "\n",
    "\n",
    "rows=5\n",
    "spaces=0\n",
    "print_count=2*rows-1\n",
    "count=65\n",
    "for i in range(rows):\n",
    "    for j in range (spaces):\n",
    "        print('',end=' ')\n",
    "    spaces=spaces+1\n",
    "    for j in range (print_count):\n",
    "        print(chr(count),end ='')\n",
    "        count=count+1\n",
    "    print_count=print_count-2\n",
    "    print()\n"
   ]
  },
  {
   "cell_type": "code",
   "execution_count": 35,
   "id": "90fe4c66",
   "metadata": {},
   "outputs": [
    {
     "name": "stdout",
     "output_type": "stream",
     "text": [
      "ABCDEFGHI\n",
      " ABCDEFG\n",
      "  ABCDE\n",
      "   ABC\n",
      "    A\n"
     ]
    }
   ],
   "source": [
    "rows=5\n",
    "spaces=0\n",
    "print_count=2*rows-1\n",
    "\n",
    "for i in range(rows):\n",
    "    count=65\n",
    "    for j in range (spaces):\n",
    "        print('',end=' ')\n",
    "    spaces=spaces+1\n",
    "    for j in range (print_count):\n",
    "        print(chr(count),end ='')\n",
    "        count=count+1\n",
    "    print_count=print_count-2\n",
    "    print()\n"
   ]
  },
  {
   "cell_type": "code",
   "execution_count": 37,
   "id": "0d107b80",
   "metadata": {},
   "outputs": [
    {
     "name": "stdout",
     "output_type": "stream",
     "text": [
      "777777777\n",
      " 5555555\n",
      "  77777\n",
      "   555\n",
      "    7\n"
     ]
    }
   ],
   "source": [
    "rows=5\n",
    "spaces=0\n",
    "print_count=2*rows-1\n",
    "\n",
    "for i in range(rows):\n",
    "  \n",
    "    for j in range (spaces):\n",
    "        print('',end=' ')\n",
    "    spaces=spaces+1\n",
    "    for j in range (print_count):\n",
    "        if(i%2 == 0):\n",
    "            print('7',end ='')\n",
    "        else:\n",
    "            print('5',end='')\n",
    "    print_count=print_count-2\n",
    "    print()\n"
   ]
  },
  {
   "cell_type": "code",
   "execution_count": 39,
   "id": "7678752c",
   "metadata": {},
   "outputs": [
    {
     "name": "stdout",
     "output_type": "stream",
     "text": [
      "777777777\n",
      " 5555555\n",
      "  33333\n",
      "   777\n",
      "    5\n"
     ]
    }
   ],
   "source": [
    "rows=5\n",
    "spaces=0\n",
    "print_count=2*rows-1\n",
    "\n",
    "for i in range(rows):\n",
    "  \n",
    "    for j in range (spaces):\n",
    "        print('',end=' ')\n",
    "    spaces=spaces+1\n",
    "    for j in range (print_count):\n",
    "        if(i%3 == 0):\n",
    "            print('7',end ='')\n",
    "        elif(i%3==1):\n",
    "            print('5',end='')\n",
    "        else:\n",
    "            print('3',end='')\n",
    "    print_count=print_count-2\n",
    "    print()\n"
   ]
  },
  {
   "cell_type": "code",
   "execution_count": 45,
   "id": "3f7d4c1e",
   "metadata": {},
   "outputs": [
    {
     "name": "stdout",
     "output_type": "stream",
     "text": [
      "         * \n",
      "        * * \n",
      "       * * * \n",
      "      * * * * \n",
      "     * * * * * \n",
      "    * * * * * * \n",
      "   * * * * * * * \n",
      "  * * * * * * * * \n",
      " * * * * * * * * * \n",
      "* * * * * * * * * * \n"
     ]
    }
   ],
   "source": [
    "rows=10\n",
    "spaces=rows-1\n",
    "print_count=1\n",
    "\n",
    "for i in range(rows):\n",
    "  \n",
    "    for j in range (spaces):\n",
    "        print('',end=' ')\n",
    "    spaces=spaces-1\n",
    "    for j in range (print_count):\n",
    "        print('* ',end= '')\n",
    "    print_count+=1\n",
    "    print()\n"
   ]
  },
  {
   "cell_type": "code",
   "execution_count": 49,
   "id": "bd9f121f",
   "metadata": {},
   "outputs": [
    {
     "name": "stdout",
     "output_type": "stream",
     "text": [
      "         0 \n",
      "        0 1 \n",
      "       0 1 2 \n",
      "      0 1 2 3 \n",
      "     0 1 2 3 4 \n",
      "    0 1 2 3 4 5 \n",
      "   0 1 2 3 4 5 6 \n",
      "  0 1 2 3 4 5 6 7 \n",
      " 0 1 2 3 4 5 6 7 8 \n",
      "0 1 2 3 4 5 6 7 8 9 \n"
     ]
    }
   ],
   "source": [
    "rows=10\n",
    "spaces=rows-1\n",
    "print_count=1\n",
    "\n",
    "for i in range(rows):\n",
    "  \n",
    "    for j in range (spaces):\n",
    "        print('',end=' ')\n",
    "    spaces=spaces-1\n",
    "    for j in range (print_count):\n",
    "        print(str(j)+' ' ,end= '')\n",
    "    print_count+=1\n",
    "    print()\n"
   ]
  },
  {
   "cell_type": "code",
   "execution_count": 51,
   "id": "f7a61afb",
   "metadata": {},
   "outputs": [
    {
     "name": "stdout",
     "output_type": "stream",
     "text": [
      "         0 \n",
      "        1 1 \n",
      "       2 2 2 \n",
      "      3 3 3 3 \n",
      "     4 4 4 4 4 \n",
      "    5 5 5 5 5 5 \n",
      "   6 6 6 6 6 6 6 \n",
      "  7 7 7 7 7 7 7 7 \n",
      " 8 8 8 8 8 8 8 8 8 \n",
      "9 9 9 9 9 9 9 9 9 9 \n"
     ]
    }
   ],
   "source": [
    "rows=10\n",
    "spaces=rows-1\n",
    "print_count=1\n",
    "\n",
    "for i in range(rows):\n",
    "  \n",
    "    for j in range (spaces):\n",
    "        print('',end=' ')\n",
    "    spaces=spaces-1\n",
    "    for j in range (print_count):\n",
    "        print(str(i)+' ' ,end= '')\n",
    "    print_count+=1\n",
    "    print()"
   ]
  },
  {
   "cell_type": "code",
   "execution_count": 53,
   "id": "94e6af9c",
   "metadata": {},
   "outputs": [
    {
     "name": "stdout",
     "output_type": "stream",
     "text": [
      "         A \n",
      "        A B \n",
      "       A B C \n",
      "      A B C D \n",
      "     A B C D E \n",
      "    A B C D E F \n",
      "   A B C D E F G \n",
      "  A B C D E F G H \n",
      " A B C D E F G H I \n",
      "A B C D E F G H I J \n"
     ]
    }
   ],
   "source": [
    "rows=10\n",
    "spaces=rows-1\n",
    "print_count=1\n",
    "count=65\n",
    "for i in range(rows):\n",
    "  \n",
    "    for j in range (spaces):\n",
    "        print('',end=' ')\n",
    "    spaces=spaces-1\n",
    "    for j in range (print_count):\n",
    "        print(chr(count+j)+' ' ,end= '')\n",
    "    print_count+=1\n",
    "    print()"
   ]
  },
  {
   "cell_type": "code",
   "execution_count": 55,
   "id": "c633aea2",
   "metadata": {},
   "outputs": [
    {
     "name": "stdout",
     "output_type": "stream",
     "text": [
      "         $ \n",
      "        $ $ \n",
      "       $ $ $ \n",
      "      $ $ $ $ \n",
      "     $ $ $ $ $ \n",
      "    $ $ $ $ $ $ \n",
      "   $ $ $ $ $ $ $ \n",
      "  $ $ $ $ $ $ $ $ \n",
      " $ $ $ $ $ $ $ $ $ \n",
      "$ $ $ $ $ $ $ $ $ $ \n"
     ]
    }
   ],
   "source": [
    "rows=10\n",
    "spaces=rows-1\n",
    "print_count=1\n",
    "\n",
    "for i in range(rows):\n",
    "  \n",
    "    for j in range (spaces):\n",
    "        print('',end=' ')\n",
    "    spaces=spaces-1\n",
    "    for j in range (print_count):\n",
    "        print('$ ' ,end= '')\n",
    "    print_count+=1\n",
    "    print()"
   ]
  },
  {
   "cell_type": "code",
   "execution_count": 58,
   "id": "0eaab579",
   "metadata": {},
   "outputs": [
    {
     "name": "stdout",
     "output_type": "stream",
     "text": [
      "         a \n",
      "        b b \n",
      "       c c c \n",
      "      d d d d \n",
      "     e e e e e \n",
      "    f f f f f f \n",
      "   g g g g g g g \n",
      "  h h h h h h h h \n",
      " i i i i i i i i i \n",
      "j j j j j j j j j j \n"
     ]
    }
   ],
   "source": [
    "rows=10\n",
    "spaces=rows-1\n",
    "print_count=1\n",
    "count=97\n",
    "for i in range(rows):\n",
    "  \n",
    "    for j in range (spaces):\n",
    "        print('',end=' ')\n",
    "    spaces=spaces-1\n",
    "    for j in range (print_count):\n",
    "        print(chr(count),end= ' ')\n",
    "    count+=1\n",
    "    print_count+=1\n",
    "    print()"
   ]
  },
  {
   "cell_type": "code",
   "execution_count": 59,
   "id": "e0a47ff9",
   "metadata": {},
   "outputs": [
    {
     "ename": "IndentationError",
     "evalue": "unexpected indent (1340880816.py, line 12)",
     "output_type": "error",
     "traceback": [
      "\u001b[1;36m  Input \u001b[1;32mIn [59]\u001b[1;36m\u001b[0m\n\u001b[1;33m    count+=1\u001b[0m\n\u001b[1;37m    ^\u001b[0m\n\u001b[1;31mIndentationError\u001b[0m\u001b[1;31m:\u001b[0m unexpected indent\n"
     ]
    }
   ],
   "source": [
    "rows=10\n",
    "spaces=rows-1\n",
    "print_count=1\n",
    "count=97\n",
    "for i in range(rows):\n",
    "  \n",
    "    for j in range (spaces):\n",
    "        print('',end=' ')\n",
    "    spaces=spaces-1\n",
    "    for j in range (print_count):\n",
    "        print(chr(count),end= ' ')\n",
    "        rows=10\n",
    "spaces=rows-1\n",
    "print_count=1\n",
    "count=97\n",
    "for i in range(rows):\n",
    "  \n",
    "    for j in range (spaces):\n",
    "        print('',end=' ')\n",
    "    spaces=spaces-1\n",
    "    for j in range (print_count):\n",
    "        print(chr(count),end= ' ')\n",
    "    count+=1\n",
    "    print_count+=1\n",
    "    print()count+=1\n",
    "    print_count+=1\n",
    "    print()"
   ]
  },
  {
   "cell_type": "code",
   "execution_count": 60,
   "id": "355e3ef2",
   "metadata": {},
   "outputs": [
    {
     "name": "stdout",
     "output_type": "stream",
     "text": [
      "         a \n",
      "        b c \n",
      "       d e f \n",
      "      g h i j \n",
      "     k l m n o \n",
      "    p q r s t u \n",
      "   v w x y z { | \n",
      "  } ~       \n",
      " ",
      "         \n",
      "          \n"
     ]
    }
   ],
   "source": [
    "rows=10\n",
    "spaces=rows-1\n",
    "print_count=1\n",
    "count=97\n",
    "for i in range(rows):\n",
    "  \n",
    "    for j in range (spaces):\n",
    "        print('',end=' ')\n",
    "    spaces=spaces-1\n",
    "    for j in range (print_count):\n",
    "        print(chr(count),end= ' ')\n",
    "        count+=1\n",
    "    print_count+=1\n",
    "    print()"
   ]
  },
  {
   "cell_type": "code",
   "execution_count": 66,
   "id": "c6bc3e15",
   "metadata": {},
   "outputs": [
    {
     "name": "stdout",
     "output_type": "stream",
     "text": [
      "*\n",
      "**\n",
      "***\n",
      "****\n",
      "*****\n",
      "******\n",
      "*******\n",
      "******\n",
      "*****\n",
      "****\n",
      "***\n",
      "**\n",
      "*\n"
     ]
    }
   ],
   "source": [
    "rows=7\n",
    "print_count=1\n",
    "for i in range(rows):\n",
    "    for j in range (print_count):\n",
    "        print('*',end='')\n",
    "    print_count+=1\n",
    "    \n",
    "   \n",
    "    print()\n",
    "rows =rows -1\n",
    "print_count =rows\n",
    "for i in range(rows):\n",
    "    for j in range(print_count):\n",
    "        print('*',end='')\n",
    "    print_count-=1\n",
    "    print()"
   ]
  },
  {
   "cell_type": "code",
   "execution_count": 75,
   "id": "031a8d94",
   "metadata": {},
   "outputs": [
    {
     "name": "stdout",
     "output_type": "stream",
     "text": [
      "* * * * * \n",
      " * * * * \n",
      "  * * * \n",
      "   * * \n",
      "    * \n"
     ]
    }
   ],
   "source": [
    "rows=5\n",
    "spaces=0\n",
    "print_count=rows\n",
    "for i in range(rows):\n",
    "  \n",
    "    for j in range (spaces):\n",
    "        print(' ',end='')\n",
    "    spaces=spaces+1\n",
    "    for j in range (print_count):\n",
    "        print('* ',end='')\n",
    "    \n",
    "    print_count-=1\n",
    "    print()"
   ]
  },
  {
   "cell_type": "code",
   "execution_count": 82,
   "id": "ae60390d",
   "metadata": {},
   "outputs": [
    {
     "name": "stdout",
     "output_type": "stream",
     "text": [
      "    *    * * * * * \n",
      "   * *    * * * * \n",
      "  * * *    * * * \n",
      " * * * *    * * \n",
      "* * * * *    * \n"
     ]
    }
   ],
   "source": [
    "rows=5\n",
    "spaces1=rows-1\n",
    "print_count1=1\n",
    "spaces2=rows-2\n",
    "print_count2=rows\n",
    "for i in range(rows):\n",
    "  \n",
    "    for j in range (spaces1):\n",
    "        print('',end=' ')\n",
    "    spaces1=spaces1-1\n",
    "    for j in range (print_count1):\n",
    "        print('*',end=' ')\n",
    "    print_count1+=1\n",
    "    for j in range (spaces2):\n",
    "        print('',end=' ')\n",
    "    for j in range (print_count2):\n",
    "        print('*',end=' ')\n",
    "    print_count2-=1\n",
    "    print()"
   ]
  },
  {
   "cell_type": "code",
   "execution_count": 83,
   "id": "fdee1248",
   "metadata": {},
   "outputs": [
    {
     "name": "stdout",
     "output_type": "stream",
     "text": [
      "    $    ? ? ? ? ? \n",
      "   $ $    ? ? ? ? \n",
      "  $ $ $    ? ? ? \n",
      " $ $ $ $    ? ? \n",
      "$ $ $ $ $    ? \n"
     ]
    }
   ],
   "source": [
    "rows=5\n",
    "spaces1=rows-1\n",
    "print_count1=1\n",
    "spaces2=rows-2\n",
    "print_count2=rows\n",
    "for i in range(rows):\n",
    "  \n",
    "    for j in range (spaces1):\n",
    "        print('',end=' ')\n",
    "    spaces1=spaces1-1\n",
    "    for j in range (print_count1):\n",
    "        print('$',end=' ')\n",
    "    print_count1+=1\n",
    "    for j in range (spaces2):\n",
    "        print('',end=' ')\n",
    "    for j in range (print_count2):\n",
    "        print('?',end=' ')\n",
    "    print_count2-=1\n",
    "    print()"
   ]
  },
  {
   "cell_type": "code",
   "execution_count": 89,
   "id": "56f4c0ac",
   "metadata": {},
   "outputs": [
    {
     "name": "stdout",
     "output_type": "stream",
     "text": [
      "      0      A A A A A A A \n",
      "     1 1      B B B B B B \n",
      "    2 2 2      C C C C C \n",
      "   3 3 3 3      D D D D \n",
      "  4 4 4 4 4      E E E \n",
      " 5 5 5 5 5 5      F F \n",
      "6 6 6 6 6 6 6      G \n"
     ]
    }
   ],
   "source": [
    "rows=7\n",
    "spaces1=rows-1\n",
    "print_count1=1\n",
    "spaces2=rows-2\n",
    "print_count2=rows\n",
    "count=65\n",
    "for i in range(rows):\n",
    "  \n",
    "    for j in range (spaces1):\n",
    "        print('',end=' ')\n",
    "    spaces1=spaces1-1\n",
    "    for j in range (print_count1):\n",
    "        print(i,end=' ')\n",
    "    print_count1+=1\n",
    "    for j in range (spaces2):\n",
    "        print('',end=' ')\n",
    "    for j in range (print_count2):\n",
    "        print(chr(count),end=' ')\n",
    "    count=count+1\n",
    "    print_count2-=1\n",
    "    print()"
   ]
  },
  {
   "cell_type": "markdown",
   "id": "da194f86",
   "metadata": {},
   "source": [
    "# Function"
   ]
  },
  {
   "cell_type": "code",
   "execution_count": 90,
   "id": "f82c305a",
   "metadata": {},
   "outputs": [
    {
     "name": "stdout",
     "output_type": "stream",
     "text": [
      "Hello world!\n"
     ]
    }
   ],
   "source": [
    "def fun():\n",
    "    print('Hello world!')\n",
    "fun()"
   ]
  },
  {
   "cell_type": "code",
   "execution_count": 91,
   "id": "cb812097",
   "metadata": {},
   "outputs": [
    {
     "name": "stdout",
     "output_type": "stream",
     "text": [
      "Hello world!\n",
      "Hello world!\n",
      "Hello world!\n",
      "Hello world!\n",
      "Hello world!\n"
     ]
    }
   ],
   "source": [
    "def fun(count):\n",
    "    for i in range(count):\n",
    "        print('Hello world!')\n",
    "fun(5)        \n",
    "        "
   ]
  },
  {
   "cell_type": "code",
   "execution_count": 94,
   "id": "36e44786",
   "metadata": {},
   "outputs": [
    {
     "name": "stdout",
     "output_type": "stream",
     "text": [
      "Mansi Maithani\n",
      "Mansi Maithani\n",
      "Mansi Maithani\n",
      "Mansi Maithani\n",
      "Mansi Maithani\n",
      "Mansi Maithani\n",
      "Mansi Maithani\n"
     ]
    }
   ],
   "source": [
    "def fun(sentence,count):\n",
    "    for i in range(count):\n",
    "        print(sentence)\n",
    "fun('Mansi Maithani',7)        \n",
    "        "
   ]
  },
  {
   "cell_type": "code",
   "execution_count": 96,
   "id": "39f8e7ab",
   "metadata": {},
   "outputs": [
    {
     "name": "stdout",
     "output_type": "stream",
     "text": [
      "Mansi Maithani\n"
     ]
    }
   ],
   "source": [
    "def fun(sentence,count=1):\n",
    "    for i in range(count):\n",
    "        print(sentence)\n",
    "fun('Mansi Maithani')        \n",
    "        "
   ]
  },
  {
   "cell_type": "code",
   "execution_count": 97,
   "id": "ef3d2296",
   "metadata": {},
   "outputs": [
    {
     "name": "stdout",
     "output_type": "stream",
     "text": [
      "Mansi Maithani\n"
     ]
    }
   ],
   "source": [
    "def fun(sentence,count=1):\n",
    "    for i in range(count):\n",
    "        print(sentence)\n",
    "fun(sentence ='Mansi Maithani')        \n",
    "        \n"
   ]
  },
  {
   "cell_type": "code",
   "execution_count": 98,
   "id": "792f0e96",
   "metadata": {},
   "outputs": [
    {
     "name": "stdout",
     "output_type": "stream",
     "text": [
      "Mansi Maithani\n",
      "Mansi Maithani\n",
      "Mansi Maithani\n"
     ]
    }
   ],
   "source": [
    "def fun(sentence,count=1):\n",
    "    for i in range(count):\n",
    "        print(sentence)\n",
    "fun(count=3,sentence ='Mansi Maithani')        \n",
    "        \n"
   ]
  },
  {
   "cell_type": "code",
   "execution_count": 108,
   "id": "c0439c54",
   "metadata": {},
   "outputs": [
    {
     "name": "stdout",
     "output_type": "stream",
     "text": [
      "Enter the number: 7\n",
      "sum of first 7 natural numbers=28\n"
     ]
    }
   ],
   "source": [
    "def summation(num):\n",
    "    result = 0\n",
    "    for i in range(1,num+1):\n",
    "        result = result+i\n",
    "    return result\n",
    "number=int(input('Enter the number: '))\n",
    "result=summation(number)\n",
    "print(f'sum of first {number} natural numbers={result}')\n",
    "    \n",
    "    "
   ]
  },
  {
   "cell_type": "code",
   "execution_count": 109,
   "id": "985e1c36",
   "metadata": {},
   "outputs": [
    {
     "name": "stdout",
     "output_type": "stream",
     "text": [
      "Enter the number: 1\n",
      "sum of first 1 natural numbers=1\n"
     ]
    }
   ],
   "source": [
    "   def sum_of_natural_numbers(n):\n",
    "    result = (n*(n+1))/2\n",
    "    return result\n",
    "number=int(input('Enter the number: '))\n",
    "result=summation(number)\n",
    "print(f'sum of first {number} natural numbers={result}')"
   ]
  },
  {
   "cell_type": "code",
   "execution_count": 117,
   "id": "9d59cfbe",
   "metadata": {},
   "outputs": [
    {
     "name": "stdout",
     "output_type": "stream",
     "text": [
      "Enter the number: 3\n",
      "sum of first 3 natural numbers=14.0\n"
     ]
    }
   ],
   "source": [
    " def sum_of_natural_numbers(n):\n",
    "    result = (n*(n+1)*(2*n+1))/6\n",
    "    return result\n",
    "number=int(input('Enter the number: '))\n",
    "result=sum_of_natural_numbers(number)\n",
    "print(f'sum of first {number} natural numbers={result}')"
   ]
  },
  {
   "cell_type": "code",
   "execution_count": 120,
   "id": "2623f97b",
   "metadata": {},
   "outputs": [
    {
     "name": "stdout",
     "output_type": "stream",
     "text": [
      "Enter the number: 3\n",
      "sum of first 3 natural numbers=36.0\n"
     ]
    }
   ],
   "source": [
    " def sum_of_natural_numbers(n):\n",
    "    result = ((n*(n+1))/2)**2\n",
    "    return result\n",
    "number=int(input('Enter the number: '))\n",
    "result=sum_of_natural_numbers(number)\n",
    "print(f'sum of first {number} natural numbers={result}')"
   ]
  },
  {
   "cell_type": "markdown",
   "id": "75848052",
   "metadata": {},
   "source": [
    "#list"
   ]
  },
  {
   "cell_type": "code",
   "execution_count": 198,
   "id": "7bd2d004",
   "metadata": {},
   "outputs": [
    {
     "name": "stdout",
     "output_type": "stream",
     "text": [
      "[]\n",
      "[1]\n"
     ]
    }
   ],
   "source": [
    "lst=[]\n",
    "print(lst)\n",
    "lst.append(1)\n",
    "print(lst)"
   ]
  },
  {
   "cell_type": "code",
   "execution_count": 123,
   "id": "8347e469",
   "metadata": {},
   "outputs": [
    {
     "data": {
      "text/plain": [
       "[1, 2, 3, 4]"
      ]
     },
     "execution_count": 123,
     "metadata": {},
     "output_type": "execute_result"
    }
   ],
   "source": [
    "lst=[1,2,3,4]\n",
    "lst"
   ]
  },
  {
   "cell_type": "code",
   "execution_count": 125,
   "id": "b16909a3",
   "metadata": {},
   "outputs": [
    {
     "name": "stdout",
     "output_type": "stream",
     "text": [
      "[1, 2, 3, 4]\n"
     ]
    }
   ],
   "source": [
    "print(lst)"
   ]
  },
  {
   "cell_type": "code",
   "execution_count": 126,
   "id": "c0863785",
   "metadata": {},
   "outputs": [
    {
     "name": "stdout",
     "output_type": "stream",
     "text": [
      "[1, 2, 3, 4, 6]\n"
     ]
    }
   ],
   "source": [
    "lst.append(6)\n",
    "print(lst)\n",
    "\n"
   ]
  },
  {
   "cell_type": "code",
   "execution_count": 127,
   "id": "cf1d6cc6",
   "metadata": {},
   "outputs": [
    {
     "name": "stdout",
     "output_type": "stream",
     "text": [
      "[1, 2, 4, 6]\n"
     ]
    }
   ],
   "source": [
    "lst.remove(3)\n",
    "print(lst)\n"
   ]
  },
  {
   "cell_type": "code",
   "execution_count": 133,
   "id": "8d7cbab7",
   "metadata": {},
   "outputs": [
    {
     "name": "stdout",
     "output_type": "stream",
     "text": [
      "<class 'list'>\n"
     ]
    }
   ],
   "source": [
    "print(type(lst))"
   ]
  },
  {
   "cell_type": "code",
   "execution_count": 134,
   "id": "20d74397",
   "metadata": {},
   "outputs": [
    {
     "name": "stdout",
     "output_type": "stream",
     "text": [
      "[1, 2, 4, 6, 7.5]\n"
     ]
    }
   ],
   "source": [
    "lst.append(7.5)\n",
    "print(lst)\n"
   ]
  },
  {
   "cell_type": "code",
   "execution_count": 135,
   "id": "949fe470",
   "metadata": {},
   "outputs": [
    {
     "name": "stdout",
     "output_type": "stream",
     "text": [
      "[1, 2, 4, 6, 7.5, 'mansi']\n"
     ]
    }
   ],
   "source": [
    "lst.append('mansi')\n",
    "print(lst)\n"
   ]
  },
  {
   "cell_type": "code",
   "execution_count": 199,
   "id": "95981b4e",
   "metadata": {},
   "outputs": [
    {
     "name": "stdout",
     "output_type": "stream",
     "text": [
      "[1, 9]\n"
     ]
    }
   ],
   "source": [
    "lst.insert(1,9)\n",
    "print(lst)"
   ]
  },
  {
   "cell_type": "code",
   "execution_count": 200,
   "id": "e40925c8",
   "metadata": {},
   "outputs": [
    {
     "name": "stdout",
     "output_type": "stream",
     "text": [
      "[1, 2, 3, 4, 5, 6]\n"
     ]
    }
   ],
   "source": [
    "lst=[1,3,4,5,6]\n",
    "lst.insert(1,2)\n",
    "print(lst)"
   ]
  },
  {
   "cell_type": "code",
   "execution_count": 150,
   "id": "b951c7cb",
   "metadata": {},
   "outputs": [
    {
     "name": "stdout",
     "output_type": "stream",
     "text": [
      "1\n",
      "9\n"
     ]
    }
   ],
   "source": [
    "lst=[1,2,3,4,5,6,7,8,9]\n",
    "print(lst[0])\n",
    "print(lst[8])"
   ]
  },
  {
   "cell_type": "code",
   "execution_count": 152,
   "id": "9555eb9c",
   "metadata": {},
   "outputs": [
    {
     "name": "stdout",
     "output_type": "stream",
     "text": [
      "9\n"
     ]
    }
   ],
   "source": [
    "lst=[2,5,1,7,3,8,4,0,9]\n",
    "print(lst[-1])"
   ]
  },
  {
   "cell_type": "code",
   "execution_count": 153,
   "id": "7579aaf4",
   "metadata": {},
   "outputs": [
    {
     "data": {
      "text/plain": [
       "[2, 5, 1, 7, 3, 8, 4, 0, 9]"
      ]
     },
     "execution_count": 153,
     "metadata": {},
     "output_type": "execute_result"
    }
   ],
   "source": [
    "lst"
   ]
  },
  {
   "cell_type": "code",
   "execution_count": 154,
   "id": "d4e1414a",
   "metadata": {},
   "outputs": [
    {
     "data": {
      "text/plain": [
       "[2, 5, 1, 7, 3, 8, 4, 0, 9]"
      ]
     },
     "execution_count": 154,
     "metadata": {},
     "output_type": "execute_result"
    }
   ],
   "source": [
    "lst[::]"
   ]
  },
  {
   "cell_type": "code",
   "execution_count": 155,
   "id": "14a623b8",
   "metadata": {},
   "outputs": [
    {
     "data": {
      "text/plain": [
       "[2, 5, 1, 7, 3, 8, 4, 0, 9]"
      ]
     },
     "execution_count": 155,
     "metadata": {},
     "output_type": "execute_result"
    }
   ],
   "source": [
    "lst[:]"
   ]
  },
  {
   "cell_type": "code",
   "execution_count": 156,
   "id": "6a3870fa",
   "metadata": {},
   "outputs": [
    {
     "data": {
      "text/plain": [
       "[2, 5, 1, 7, 3, 8, 4, 0, 9]"
      ]
     },
     "execution_count": 156,
     "metadata": {},
     "output_type": "execute_result"
    }
   ],
   "source": [
    "lst[0:]"
   ]
  },
  {
   "cell_type": "code",
   "execution_count": 157,
   "id": "c1a6ee64",
   "metadata": {},
   "outputs": [
    {
     "data": {
      "text/plain": [
       "[2, 5, 1, 7, 3, 8, 4, 0, 9]"
      ]
     },
     "execution_count": 157,
     "metadata": {},
     "output_type": "execute_result"
    }
   ],
   "source": [
    "lst[0::]"
   ]
  },
  {
   "cell_type": "code",
   "execution_count": 158,
   "id": "3e60dccc",
   "metadata": {},
   "outputs": [
    {
     "data": {
      "text/plain": [
       "[2, 5, 1]"
      ]
     },
     "execution_count": 158,
     "metadata": {},
     "output_type": "execute_result"
    }
   ],
   "source": [
    "lst[0:3]"
   ]
  },
  {
   "cell_type": "code",
   "execution_count": 159,
   "id": "3fd406db",
   "metadata": {},
   "outputs": [
    {
     "data": {
      "text/plain": [
       "[3, 8, 4, 0]"
      ]
     },
     "execution_count": 159,
     "metadata": {},
     "output_type": "execute_result"
    }
   ],
   "source": [
    "lst[4:8]"
   ]
  },
  {
   "cell_type": "code",
   "execution_count": 161,
   "id": "411701d5",
   "metadata": {},
   "outputs": [
    {
     "data": {
      "text/plain": [
       "[2, 1, 3, 4, 9]"
      ]
     },
     "execution_count": 161,
     "metadata": {},
     "output_type": "execute_result"
    }
   ],
   "source": [
    "lst[::2]"
   ]
  },
  {
   "cell_type": "code",
   "execution_count": null,
   "id": "de718dda",
   "metadata": {},
   "outputs": [],
   "source": []
  },
  {
   "cell_type": "code",
   "execution_count": 164,
   "id": "abfca6ed",
   "metadata": {},
   "outputs": [
    {
     "data": {
      "text/plain": [
       "[2, 5, 1, 7, 3, 8, 4, 0, 9]"
      ]
     },
     "execution_count": 164,
     "metadata": {},
     "output_type": "execute_result"
    }
   ],
   "source": [
    "lst[0::1]"
   ]
  },
  {
   "cell_type": "code",
   "execution_count": 166,
   "id": "50081bda",
   "metadata": {},
   "outputs": [
    {
     "name": "stdout",
     "output_type": "stream",
     "text": [
      "['python', 'rattle snake', 'cobra', 'anaconda', ['viper', 'black mamba']]\n",
      "['viper', 'black mamba']\n"
     ]
    }
   ],
   "source": [
    "lst1=['python','rattle snake','cobra','anaconda',]\n",
    "lst2=['viper','black mamba']\n",
    "lst1.append(lst2)\n",
    "print(lst1)\n",
    "print(lst2)"
   ]
  },
  {
   "cell_type": "code",
   "execution_count": 201,
   "id": "4347697b",
   "metadata": {},
   "outputs": [
    {
     "name": "stdout",
     "output_type": "stream",
     "text": [
      "['python', 'rattle snake', 'cobra', 'anaconda', 'viper', 'black mamba']\n",
      "['viper', 'black mamba']\n"
     ]
    }
   ],
   "source": [
    "lst1=['python','rattle snake','cobra','anaconda',]\n",
    "lst2=['viper','black mamba']\n",
    "lst1.extend(lst2)\n",
    "print(lst1)\n",
    "print(lst2)"
   ]
  },
  {
   "cell_type": "code",
   "execution_count": 202,
   "id": "2bfbf6bb",
   "metadata": {},
   "outputs": [
    {
     "name": "stdout",
     "output_type": "stream",
     "text": [
      "[1, 4, 6, 8, 0, 4, 7, 8]\n"
     ]
    }
   ],
   "source": [
    "lst1=[1,4,6,8]\n",
    "lst1.extend([0,4,7,8])\n",
    "print(lst1)"
   ]
  },
  {
   "cell_type": "code",
   "execution_count": 172,
   "id": "63a5c43f",
   "metadata": {},
   "outputs": [
    {
     "name": "stdout",
     "output_type": "stream",
     "text": [
      "['python', 'rattle snake', 'cobra', 'anaconda', 'viper', 'black mamba']\n",
      "['python', 'rattle snake', 'cobra', 'anaconda']\n",
      "['viper', 'black mamba']\n"
     ]
    }
   ],
   "source": [
    "lst1=['python','rattle snake','cobra','anaconda',]\n",
    "lst2=['viper','black mamba']\n",
    "print(lst1+lst2)\n",
    "print(lst1)\n",
    "print(lst2)"
   ]
  },
  {
   "cell_type": "code",
   "execution_count": 173,
   "id": "d96d6e97",
   "metadata": {},
   "outputs": [
    {
     "name": "stdout",
     "output_type": "stream",
     "text": [
      "['python', 'rattle snake', 'cobra', 'anaconda', 'viper', 'black mamba']\n"
     ]
    }
   ],
   "source": [
    "lst1=['python','rattle snake','cobra','anaconda',]\n",
    "lst2=['viper','black mamba']\n",
    "lst3=(lst1+lst2)\n",
    "print(lst3)"
   ]
  },
  {
   "cell_type": "code",
   "execution_count": 174,
   "id": "a5e7b392",
   "metadata": {},
   "outputs": [
    {
     "name": "stdout",
     "output_type": "stream",
     "text": [
      "['python', 'rattle snake', 'cobra', 'anaconda']\n"
     ]
    }
   ],
   "source": [
    "lst1=['python','rattle snake','cobra','anaconda',]\n",
    "lst2=['viper','black mamba']\n",
    "lst3=(lst1+lst2)\n",
    "print(lst1)"
   ]
  },
  {
   "cell_type": "code",
   "execution_count": 175,
   "id": "caffe85f",
   "metadata": {},
   "outputs": [
    {
     "name": "stdout",
     "output_type": "stream",
     "text": [
      "['python', 'rattle snake', 'cobra']\n"
     ]
    }
   ],
   "source": [
    "lst=['python', 'rattle snake', 'cobra', 'anaconda']\n",
    "lst.pop()  # TRY SHIFT TAB TAB TO OPEN DOCUMNETATION\n",
    "print(lst)"
   ]
  },
  {
   "cell_type": "code",
   "execution_count": 176,
   "id": "9184ba03",
   "metadata": {},
   "outputs": [
    {
     "name": "stdout",
     "output_type": "stream",
     "text": [
      "['python', 'rattle snake', 'anaconda']\n"
     ]
    }
   ],
   "source": [
    "lst=['python', 'rattle snake', 'cobra', 'anaconda']\n",
    "lst.pop(2)  \n",
    "print(lst)"
   ]
  },
  {
   "cell_type": "code",
   "execution_count": 178,
   "id": "e3386525",
   "metadata": {},
   "outputs": [
    {
     "name": "stdout",
     "output_type": "stream",
     "text": [
      "['python', 'anaconda']\n"
     ]
    }
   ],
   "source": [
    "lst.pop(1)  \n",
    "print(lst)"
   ]
  },
  {
   "cell_type": "code",
   "execution_count": 179,
   "id": "bc5458f4",
   "metadata": {},
   "outputs": [
    {
     "data": {
      "text/plain": [
       "[1, 2, 3, 1, 2, 3, 1, 2, 3]"
      ]
     },
     "execution_count": 179,
     "metadata": {},
     "output_type": "execute_result"
    }
   ],
   "source": [
    "lst=[1,2,3]\n",
    "lst*3"
   ]
  },
  {
   "cell_type": "code",
   "execution_count": 185,
   "id": "ca592f02",
   "metadata": {},
   "outputs": [
    {
     "name": "stdout",
     "output_type": "stream",
     "text": [
      "[1, 2, 3, 1, 2, 3, 1, 2, 3]\n"
     ]
    }
   ],
   "source": [
    "lst =[1,2,3]\n",
    "lst=lst*3\n",
    "print (lst)"
   ]
  },
  {
   "cell_type": "code",
   "execution_count": 191,
   "id": "64ae905c",
   "metadata": {},
   "outputs": [
    {
     "name": "stdout",
     "output_type": "stream",
     "text": [
      "rattle snake\n",
      "python\n"
     ]
    }
   ],
   "source": [
    "lst=['python', 'rattle snake', 'cobra', 'anaconda']\n",
    "print(max(lst))  #alphabetical\n",
    "lst=['python', ' snake', 'cobra']\n",
    "print(max(lst))"
   ]
  },
  {
   "cell_type": "code",
   "execution_count": 192,
   "id": "5053a125",
   "metadata": {},
   "outputs": [
    {
     "data": {
      "text/plain": [
       "89"
      ]
     },
     "execution_count": 192,
     "metadata": {},
     "output_type": "execute_result"
    }
   ],
   "source": [
    "lst=[11,2,3,56,32,89,10]\n",
    "max(lst)"
   ]
  },
  {
   "cell_type": "code",
   "execution_count": 193,
   "id": "958c7ed5",
   "metadata": {},
   "outputs": [
    {
     "data": {
      "text/plain": [
       "2"
      ]
     },
     "execution_count": 193,
     "metadata": {},
     "output_type": "execute_result"
    }
   ],
   "source": [
    "lst=[11,2,3,56,32,89,10]\n",
    "min(lst)"
   ]
  },
  {
   "cell_type": "markdown",
   "id": "90e66e4e",
   "metadata": {},
   "source": [
    "# tupple"
   ]
  },
  {
   "cell_type": "code",
   "execution_count": 203,
   "id": "ac194a93",
   "metadata": {},
   "outputs": [
    {
     "name": "stdout",
     "output_type": "stream",
     "text": [
      "()\n"
     ]
    }
   ],
   "source": [
    "mytupple=()\n",
    "print (mytupple)"
   ]
  },
  {
   "cell_type": "code",
   "execution_count": 206,
   "id": "493c7968",
   "metadata": {},
   "outputs": [
    {
     "name": "stdout",
     "output_type": "stream",
     "text": [
      "()\n"
     ]
    }
   ],
   "source": [
    "mytupple = tuple()\n",
    "print(mytupple)"
   ]
  },
  {
   "cell_type": "code",
   "execution_count": 208,
   "id": "97faf932",
   "metadata": {},
   "outputs": [
    {
     "name": "stdout",
     "output_type": "stream",
     "text": [
      "(1, 2, 3, 4, 5)\n"
     ]
    }
   ],
   "source": [
    "mytuple=(1,2,3,4,5)\n",
    "print(mytuple)"
   ]
  },
  {
   "cell_type": "code",
   "execution_count": 209,
   "id": "d9c4613d",
   "metadata": {},
   "outputs": [
    {
     "data": {
      "text/plain": [
       "1"
      ]
     },
     "execution_count": 209,
     "metadata": {},
     "output_type": "execute_result"
    }
   ],
   "source": [
    "mytuple[0]"
   ]
  },
  {
   "cell_type": "code",
   "execution_count": 210,
   "id": "a19cbded",
   "metadata": {},
   "outputs": [
    {
     "data": {
      "text/plain": [
       "5"
      ]
     },
     "execution_count": 210,
     "metadata": {},
     "output_type": "execute_result"
    }
   ],
   "source": [
    "mytuple[-1]"
   ]
  },
  {
   "cell_type": "code",
   "execution_count": 211,
   "id": "0a64d753",
   "metadata": {},
   "outputs": [
    {
     "data": {
      "text/plain": [
       "(1, 2, 3)"
      ]
     },
     "execution_count": 211,
     "metadata": {},
     "output_type": "execute_result"
    }
   ],
   "source": [
    "mytuple[0:3]"
   ]
  },
  {
   "cell_type": "code",
   "execution_count": 213,
   "id": "7a262c26",
   "metadata": {},
   "outputs": [
    {
     "data": {
      "text/plain": [
       "(1, 3)"
      ]
     },
     "execution_count": 213,
     "metadata": {},
     "output_type": "execute_result"
    }
   ],
   "source": [
    "mytuple[0:3:2]"
   ]
  },
  {
   "cell_type": "code",
   "execution_count": 214,
   "id": "84a7208a",
   "metadata": {},
   "outputs": [
    {
     "data": {
      "text/plain": [
       "(1, 2, 3, 4, 5)"
      ]
     },
     "execution_count": 214,
     "metadata": {},
     "output_type": "execute_result"
    }
   ],
   "source": [
    "mytuple[:]"
   ]
  },
  {
   "cell_type": "code",
   "execution_count": 215,
   "id": "0159e9f2",
   "metadata": {},
   "outputs": [
    {
     "data": {
      "text/plain": [
       "(1, 2, 3, 4, 5)"
      ]
     },
     "execution_count": 215,
     "metadata": {},
     "output_type": "execute_result"
    }
   ],
   "source": [
    "mytuple[::]"
   ]
  },
  {
   "cell_type": "code",
   "execution_count": 216,
   "id": "f14c7a79",
   "metadata": {},
   "outputs": [
    {
     "data": {
      "text/plain": [
       "(1, 2)"
      ]
     },
     "execution_count": 216,
     "metadata": {},
     "output_type": "execute_result"
    }
   ],
   "source": [
    "mytuple[:2]"
   ]
  },
  {
   "cell_type": "code",
   "execution_count": 219,
   "id": "786a641e",
   "metadata": {},
   "outputs": [
    {
     "data": {
      "text/plain": [
       "(1, 3, 5)"
      ]
     },
     "execution_count": 219,
     "metadata": {},
     "output_type": "execute_result"
    }
   ],
   "source": [
    "mytuple[::2]"
   ]
  },
  {
   "cell_type": "code",
   "execution_count": 220,
   "id": "5f3cd87c",
   "metadata": {},
   "outputs": [
    {
     "name": "stdout",
     "output_type": "stream",
     "text": [
      "[3, 2, 5, 7, 9, 0, 5, 8]\n"
     ]
    }
   ],
   "source": [
    "mytuple=[1,2,5,7,9,0,5,8]\n",
    "mytuple[0]=3   #'tuple' object does not support item assignment\n",
    "\n",
    "mytuple[0]=3   \n",
    "print(mytuple)"
   ]
  },
  {
   "cell_type": "code",
   "execution_count": 221,
   "id": "d9edcf09",
   "metadata": {},
   "outputs": [
    {
     "ename": "TypeError",
     "evalue": "'tuple' object does not support item assignment",
     "output_type": "error",
     "traceback": [
      "\u001b[1;31m---------------------------------------------------------------------------\u001b[0m",
      "\u001b[1;31mTypeError\u001b[0m                                 Traceback (most recent call last)",
      "Input \u001b[1;32mIn [221]\u001b[0m, in \u001b[0;36m<cell line: 2>\u001b[1;34m()\u001b[0m\n\u001b[0;32m      1\u001b[0m mytuple\u001b[38;5;241m=\u001b[39m(\u001b[38;5;124m'\u001b[39m\u001b[38;5;124mappple\u001b[39m\u001b[38;5;124m'\u001b[39m,\u001b[38;5;124m'\u001b[39m\u001b[38;5;124mmango\u001b[39m\u001b[38;5;124m'\u001b[39m,\u001b[38;5;124m'\u001b[39m\u001b[38;5;124mgrapes\u001b[39m\u001b[38;5;124m'\u001b[39m,\u001b[38;5;124m'\u001b[39m\u001b[38;5;124morange\u001b[39m\u001b[38;5;124m'\u001b[39m)\n\u001b[1;32m----> 2\u001b[0m mytuple[\u001b[38;5;241m0\u001b[39m]\u001b[38;5;241m=\u001b[39m\u001b[38;5;124m'\u001b[39m\u001b[38;5;124mpine\u001b[39m\u001b[38;5;124m'\u001b[39m\n",
      "\u001b[1;31mTypeError\u001b[0m: 'tuple' object does not support item assignment"
     ]
    }
   ],
   "source": [
    "mytuple=('appple','mango','grapes','orange')\n",
    "mytuple[0]='pine'"
   ]
  },
  {
   "cell_type": "code",
   "execution_count": 223,
   "id": "b64169e5",
   "metadata": {},
   "outputs": [
    {
     "name": "stdout",
     "output_type": "stream",
     "text": [
      "('appple', 'mango', 'grapes', 'orange')\n"
     ]
    },
    {
     "ename": "NameError",
     "evalue": "name 'mytuple' is not defined",
     "output_type": "error",
     "traceback": [
      "\u001b[1;31m---------------------------------------------------------------------------\u001b[0m",
      "\u001b[1;31mNameError\u001b[0m                                 Traceback (most recent call last)",
      "Input \u001b[1;32mIn [223]\u001b[0m, in \u001b[0;36m<cell line: 4>\u001b[1;34m()\u001b[0m\n\u001b[0;32m      2\u001b[0m \u001b[38;5;28mprint\u001b[39m(mytuple)\n\u001b[0;32m      3\u001b[0m \u001b[38;5;28;01mdel\u001b[39;00m mytuple\n\u001b[1;32m----> 4\u001b[0m \u001b[38;5;28mprint\u001b[39m(\u001b[43mmytuple\u001b[49m)\n",
      "\u001b[1;31mNameError\u001b[0m: name 'mytuple' is not defined"
     ]
    }
   ],
   "source": [
    "mytuple=('appple','mango','grapes','orange')\n",
    "print(mytuple)\n",
    "del mytuple\n",
    "print(mytuple)"
   ]
  },
  {
   "cell_type": "code",
   "execution_count": 225,
   "id": "35139f1c",
   "metadata": {},
   "outputs": [
    {
     "data": {
      "text/plain": [
       "('appple', 'mango', 'orange', 'grapes', 'kiwi')"
      ]
     },
     "execution_count": 225,
     "metadata": {},
     "output_type": "execute_result"
    }
   ],
   "source": [
    "mytuple1=('appple','mango','orange')\n",
    "mytuple2=('grapes','kiwi')\n",
    "mytuple1+mytuple2"
   ]
  },
  {
   "cell_type": "code",
   "execution_count": 227,
   "id": "b96fe7b2",
   "metadata": {},
   "outputs": [
    {
     "name": "stdout",
     "output_type": "stream",
     "text": [
      "6\n",
      "5\n",
      "0\n"
     ]
    }
   ],
   "source": [
    "mytuple=(5,4,2,0,3,1)\n",
    "print(len(mytuple))\n",
    "print(max(mytuple))\n",
    "print(min(mytuple))"
   ]
  },
  {
   "cell_type": "markdown",
   "id": "7e64bb8b",
   "metadata": {},
   "source": [
    "# type conversion"
   ]
  },
  {
   "cell_type": "code",
   "execution_count": 228,
   "id": "033d3d75",
   "metadata": {},
   "outputs": [
    {
     "name": "stdout",
     "output_type": "stream",
     "text": [
      "('appple', 'mango', 'grapes', 'orange')\n"
     ]
    }
   ],
   "source": [
    "lst=['appple','mango','grapes','orange']\n",
    "mytuple=tuple(lst)\n",
    "print(mytuple)"
   ]
  },
  {
   "cell_type": "code",
   "execution_count": 229,
   "id": "e5acffd1",
   "metadata": {},
   "outputs": [
    {
     "name": "stdout",
     "output_type": "stream",
     "text": [
      "('appple', 'mango', 'grapes', 'orange')\n"
     ]
    }
   ],
   "source": [
    "mytuple=('appple','mango','grapes','orange')\n",
    "mytuple=tuple(lst)\n",
    "print(mytuple)"
   ]
  },
  {
   "cell_type": "markdown",
   "id": "516ddcdb",
   "metadata": {},
   "source": []
  },
  {
   "cell_type": "code",
   "execution_count": null,
   "id": "165c2f08",
   "metadata": {},
   "outputs": [],
   "source": []
  },
  {
   "cell_type": "markdown",
   "id": "0a99c1e0",
   "metadata": {},
   "source": [
    "# Sorting\n",
    "\n"
   ]
  },
  {
   "cell_type": "code",
   "execution_count": 3,
   "id": "75e52b03",
   "metadata": {},
   "outputs": [
    {
     "name": "stdout",
     "output_type": "stream",
     "text": [
      "[1, 2, 3, 4, 5, 6, 7, 8, 9]\n"
     ]
    }
   ],
   "source": [
    "lst=[5,1,4,8,2,6,3,7,9]\n",
    "lst.sort()\n",
    "print(lst)"
   ]
  },
  {
   "cell_type": "code",
   "execution_count": 4,
   "id": "057f8d0f",
   "metadata": {},
   "outputs": [
    {
     "data": {
      "text/plain": [
       "[1, 2, 3, 4, 5, 6, 7, 8, 9]"
      ]
     },
     "execution_count": 4,
     "metadata": {},
     "output_type": "execute_result"
    }
   ],
   "source": [
    "lst=[5,1,4,8,2,6,3,7,9]\n",
    "sorted(lst) #changes are not getting replicated in the original list"
   ]
  },
  {
   "cell_type": "code",
   "execution_count": 6,
   "id": "dd5e4ab8",
   "metadata": {},
   "outputs": [
    {
     "name": "stdout",
     "output_type": "stream",
     "text": [
      "[9, 8, 7, 6, 5, 4, 3, 2, 1]\n"
     ]
    }
   ],
   "source": [
    "lst=[5,1,4,8,2,6,3,7,9]\n",
    "lst.sort(reverse =True)\n",
    "print(lst)"
   ]
  },
  {
   "cell_type": "code",
   "execution_count": 10,
   "id": "fa3bc519",
   "metadata": {},
   "outputs": [
    {
     "name": "stdout",
     "output_type": "stream",
     "text": [
      "[9, 8, 7, 6, 5, 4, 3, 2, 1]\n"
     ]
    }
   ],
   "source": [
    "lst=[5,1,4,8,2,6,3,7,9]\n",
    "lst=sorted(lst,reverse=True)\n",
    "print(lst)"
   ]
  },
  {
   "cell_type": "markdown",
   "id": "6b6f40ae",
   "metadata": {},
   "source": [
    "# LIST OF TUPPLES"
   ]
  },
  {
   "cell_type": "code",
   "execution_count": 12,
   "id": "5f9e4651",
   "metadata": {},
   "outputs": [
    {
     "name": "stdout",
     "output_type": "stream",
     "text": [
      "[(1, 2), (2, 9), (3, 8), (7, 3), (9, 4)]\n"
     ]
    }
   ],
   "source": [
    "lst=[(1,2),(7,3),(3,8),(9,4),(2,9)]\n",
    "lst.sort()\n",
    "print(lst)"
   ]
  },
  {
   "cell_type": "code",
   "execution_count": 13,
   "id": "44f21eea",
   "metadata": {},
   "outputs": [
    {
     "name": "stdout",
     "output_type": "stream",
     "text": [
      "[(9, 4), (7, 3), (3, 8), (2, 9), (1, 2)]\n"
     ]
    }
   ],
   "source": [
    "lst=[(1,2),(7,3),(3,8),(9,4),(2,9)]\n",
    "lst.sort(reverse=True)\n",
    "print(lst)"
   ]
  },
  {
   "cell_type": "code",
   "execution_count": 14,
   "id": "b137211a",
   "metadata": {},
   "outputs": [
    {
     "name": "stdout",
     "output_type": "stream",
     "text": [
      "[(1, 2), (2, 9), (3, 8), (7, 3), (9, 4)]\n"
     ]
    }
   ],
   "source": [
    "lst=[(1,2),(7,3),(3,8),(9,4),(2,9)]\n",
    "lst=sorted(lst)\n",
    "print(lst)"
   ]
  },
  {
   "cell_type": "code",
   "execution_count": 15,
   "id": "bfbee166",
   "metadata": {},
   "outputs": [
    {
     "name": "stdout",
     "output_type": "stream",
     "text": [
      "[(9, 4), (7, 3), (3, 8), (2, 9), (1, 2)]\n"
     ]
    }
   ],
   "source": [
    "lst=[(1,2),(7,3),(3,8),(9,4),(2,9)]\n",
    "lst=sorted(lst,reverse=True)\n",
    "print(lst)"
   ]
  },
  {
   "cell_type": "code",
   "execution_count": 16,
   "id": "7fa0ba5e",
   "metadata": {},
   "outputs": [
    {
     "name": "stdout",
     "output_type": "stream",
     "text": [
      "[(1, 2), (7, 3), (9, 4), (3, 8), (2, 9)]\n"
     ]
    }
   ],
   "source": [
    "lst=[(1,2),(7,3),(3,8),(9,4),(2,9)]\n",
    "lst.sort(key=lambda element:element[1]) #second element is sorted first\n",
    "print(lst)\n",
    "\n"
   ]
  },
  {
   "cell_type": "code",
   "execution_count": 17,
   "id": "36bdfc36",
   "metadata": {},
   "outputs": [
    {
     "name": "stdout",
     "output_type": "stream",
     "text": [
      "[(2, 9), (3, 8), (9, 4), (7, 3), (1, 2)]\n"
     ]
    }
   ],
   "source": [
    "lst=[(1,2),(7,3),(3,8),(9,4),(2,9)]\n",
    "lst.sort(key=lambda element:element[1],reverse=True) #second element is sorted first\n",
    "print(lst)\n"
   ]
  },
  {
   "cell_type": "code",
   "execution_count": 19,
   "id": "9b3b6767",
   "metadata": {},
   "outputs": [
    {
     "name": "stdout",
     "output_type": "stream",
     "text": [
      "[(1, 2), (7, 3), (9, 4), (3, 8), (2, 9)]\n"
     ]
    }
   ],
   "source": [
    "lst=[(1,2),(7,3),(3,8),(9,4),(2,9)]\n",
    "lst=sorted(lst,key=lambda element:element[1])\n",
    "print(lst)"
   ]
  },
  {
   "cell_type": "code",
   "execution_count": 20,
   "id": "fd5a2dd6",
   "metadata": {},
   "outputs": [
    {
     "name": "stdout",
     "output_type": "stream",
     "text": [
      "[(2, 9), (3, 8), (9, 4), (7, 3), (1, 2)]\n"
     ]
    }
   ],
   "source": [
    "lst=[(1,2),(7,3),(3,8),(9,4),(2,9)]\n",
    "lst=sorted(lst,key=lambda element:element[1],reverse=True)\n",
    "print(lst)"
   ]
  },
  {
   "cell_type": "code",
   "execution_count": 21,
   "id": "e974eb9b",
   "metadata": {},
   "outputs": [
    {
     "name": "stdout",
     "output_type": "stream",
     "text": [
      "[(1, 2), (7, 3), (9, 4), (3, 8), (2, 9)]\n"
     ]
    }
   ],
   "source": [
    "def fun(element):\n",
    "    return element[1]\n",
    "lst=[(1,2),(7,3),(3,8),(9,4),(2,9)]\n",
    "lst.sort(key=fun)\n",
    "print(lst)"
   ]
  },
  {
   "cell_type": "code",
   "execution_count": 22,
   "id": "4eabf1d2",
   "metadata": {},
   "outputs": [
    {
     "name": "stdout",
     "output_type": "stream",
     "text": [
      "[(2, 9), (3, 8), (9, 4), (7, 3), (1, 2)]\n"
     ]
    }
   ],
   "source": [
    "def fun(element):\n",
    "    return element[1]\n",
    "lst=[(1,2),(7,3),(3,8),(9,4),(2,9)]\n",
    "lst.sort(key=fun,reverse=True)\n",
    "print(lst)"
   ]
  },
  {
   "cell_type": "code",
   "execution_count": 25,
   "id": "3e43beac",
   "metadata": {},
   "outputs": [
    {
     "name": "stdout",
     "output_type": "stream",
     "text": [
      "[(1, 2), (7, 3), (9, 4), (3, 8), (2, 9)]\n"
     ]
    }
   ],
   "source": [
    "def fun(element):\n",
    "    return element[1]\n",
    "lst=[(1,2),(7,3),(3,8),(9,4),(2,9)]\n",
    "lst=sorted(lst,key=fun)\n",
    "print(lst)"
   ]
  },
  {
   "cell_type": "code",
   "execution_count": 26,
   "id": "a45a560e",
   "metadata": {},
   "outputs": [
    {
     "name": "stdout",
     "output_type": "stream",
     "text": [
      "[(2, 9), (3, 8), (9, 4), (7, 3), (1, 2)]\n"
     ]
    }
   ],
   "source": [
    "def fun(element):\n",
    "    return element[1]\n",
    "lst=[(1,2),(7,3),(3,8),(9,4),(2,9)]\n",
    "lst=sorted(lst,key=fun,reverse=True)\n",
    "print(lst)"
   ]
  },
  {
   "cell_type": "markdown",
   "id": "3308bce4",
   "metadata": {},
   "source": [
    "# Find the point closest to the origin"
   ]
  },
  {
   "cell_type": "markdown",
   "id": "bbf5e3c2",
   "metadata": {},
   "source": [
    "lst=[(-4,1),(2,3),(1,1),(5,2),(4,-3),(-5,-4)]\n",
    "dist =[]\n",
    "for element in lst:\n",
    "    d=(element[0]**2+element[1]**2)**(1/2)\n",
    "    dist.append((d,element))\n",
    "dist.sort()\n",
    "print(dist)"
   ]
  },
  {
   "cell_type": "markdown",
   "id": "631217b6",
   "metadata": {},
   "source": []
  },
  {
   "cell_type": "code",
   "execution_count": 19,
   "id": "9a6fa92f",
   "metadata": {},
   "outputs": [
    {
     "name": "stdout",
     "output_type": "stream",
     "text": [
      "[(1.4142135623730951, (1, 1)), (3.605551275463989, (2, 3)), (4.123105625617661, (-4, 1)), (5.0, (4, -3)), (5.385164807134504, (5, 2)), (6.4031242374328485, (-5, -4))]\n"
     ]
    }
   ],
   "source": [
    "lst=[(-4,1),(2,3),(1,1),(5,2),(4,-3),(-5,-4)]\n",
    "dist =[]\n",
    "for element in lst:\n",
    "    d=(element[0]**2+element[1]**2)**(1/2) \n",
    "    dist.append((d,element))\n",
    "    \n",
    "dist.sort()\n",
    "print(dist)\n"
   ]
  },
  {
   "cell_type": "code",
   "execution_count": 20,
   "id": "1b4f4989",
   "metadata": {},
   "outputs": [
    {
     "name": "stdout",
     "output_type": "stream",
     "text": [
      "(1, 1)\n"
     ]
    }
   ],
   "source": [
    "lst=[(-4,1),(2,3),(1,1),(5,2),(4,-3),(-5,-4)]\n",
    "dist =[]\n",
    "for element in lst:\n",
    "    d=(element[0]**2+element[1]**2)**(1/2) \n",
    "    dist.append((d,element))\n",
    "    \n",
    "#print(dist)\n",
    "minimum=dist[0][0]\n",
    "coordinate =dist[0][1]\n",
    "for i in range(len(dist)):\n",
    "    if(dist[i][0]<minimum):\n",
    "        minimum=dist[i][0]\n",
    "        coordinate=dist[i][1]\n",
    "#print(minimum)\n",
    "print(coordinate)\n",
    "    "
   ]
  },
  {
   "cell_type": "markdown",
   "id": "a907d34a",
   "metadata": {},
   "source": [
    "# Find the point closet to x axis"
   ]
  },
  {
   "cell_type": "code",
   "execution_count": 46,
   "id": "c3e9da84",
   "metadata": {},
   "outputs": [
    {
     "name": "stdout",
     "output_type": "stream",
     "text": [
      "(-4, 1)\n"
     ]
    }
   ],
   "source": [
    "lst=[(-4,1),(2,3),(1,1),(5,2),(4,-3),(-5,-4)]\n",
    "dist =[]\n",
    "for element in lst:\n",
    "    if(element[1]>=0):\n",
    "        d=element[1]\n",
    "    else:\n",
    "        d=-element[1]\n",
    "    dist.append((d,element))\n",
    "    \n",
    "dist.sort()\n",
    "print(dist[0][1])\n"
   ]
  },
  {
   "cell_type": "code",
   "execution_count": 21,
   "id": "602a2184",
   "metadata": {},
   "outputs": [
    {
     "name": "stdout",
     "output_type": "stream",
     "text": [
      "(-4, 1)\n"
     ]
    }
   ],
   "source": [
    "lst=[(-4,1),(2,3),(1,1),(5,2),(4,-3),(-5,-4)]\n",
    "dist =[]\n",
    "for element in lst:\n",
    "    if(element[1]>=0):\n",
    "        d=abs(element[1])\n",
    "   \n",
    "    dist.append((d,element))\n",
    "    \n",
    "dist.sort()\n",
    "print(dist[0][1])"
   ]
  },
  {
   "cell_type": "code",
   "execution_count": 22,
   "id": "8bb7484c",
   "metadata": {},
   "outputs": [
    {
     "name": "stdout",
     "output_type": "stream",
     "text": [
      "(-4, 1)\n"
     ]
    }
   ],
   "source": [
    "lst=[(-4,1),(2,3),(1,1),(5,2),(4,-3),(-5,-4)]\n",
    "dist =[]\n",
    "for element in lst:\n",
    "    if(element[1]>=0):\n",
    "        d=abs(element[1])\n",
    "   \n",
    "    dist.append((d,element))\n",
    "    \n",
    "#print(dist)\n",
    "minimum=dist[0][0]\n",
    "coordinate =dist[0][1]\n",
    "for i in range(len(dist)):\n",
    "    if(dist[i][0]<minimum):\n",
    "        minimum=dist[i][0]\n",
    "        coordinate=dist[i][1]\n",
    "#print(minimum)\n",
    "print(coordinate)"
   ]
  },
  {
   "cell_type": "code",
   "execution_count": 23,
   "id": "80ed5fe4",
   "metadata": {},
   "outputs": [
    {
     "data": {
      "text/plain": [
       "3"
      ]
     },
     "execution_count": 23,
     "metadata": {},
     "output_type": "execute_result"
    }
   ],
   "source": [
    "abs(-3)"
   ]
  },
  {
   "cell_type": "markdown",
   "id": "5eb40185",
   "metadata": {},
   "source": [
    "#  Find the point closest to y-axis"
   ]
  },
  {
   "cell_type": "code",
   "execution_count": 58,
   "id": "f2cf9fbf",
   "metadata": {},
   "outputs": [
    {
     "name": "stdout",
     "output_type": "stream",
     "text": [
      "(1, 3)\n"
     ]
    }
   ],
   "source": [
    "lst=[(-4,1),(2,3),(1,3),(5,2),(4,-3),(-5,-4)]\n",
    "dist =[]\n",
    "for element in lst:\n",
    "    if(element[0]>=0):\n",
    "        d=element[0]\n",
    "    else:\n",
    "        d=-element[0]\n",
    "    dist.append((d,element))\n",
    "    \n",
    "dist.sort()\n",
    "print(dist[0][1])\n"
   ]
  },
  {
   "cell_type": "code",
   "execution_count": null,
   "id": "bc353c12",
   "metadata": {},
   "outputs": [],
   "source": []
  },
  {
   "cell_type": "code",
   "execution_count": 4,
   "id": "591c7666",
   "metadata": {},
   "outputs": [
    {
     "name": "stdout",
     "output_type": "stream",
     "text": [
      "(1, 3)\n"
     ]
    }
   ],
   "source": [
    "lst=[(-4,1),(2,3),(1,3),(5,2),(4,-3),(-5,-4)]\n",
    "dist =[]\n",
    "for element in lst:\n",
    "    d=abs(element[0])\n",
    "    dist.append((d,element))\n",
    "    \n",
    "dist.sort()\n",
    "print(dist[0][1])\n"
   ]
  },
  {
   "cell_type": "markdown",
   "id": "52db02d7",
   "metadata": {},
   "source": [
    "# Find the point closest to nthe line parallel to x-axis and pasing through the point (2,3)"
   ]
  },
  {
   "cell_type": "code",
   "execution_count": 13,
   "id": "138ca0b0",
   "metadata": {},
   "outputs": [
    {
     "name": "stdout",
     "output_type": "stream",
     "text": [
      "(-2, 4)\n"
     ]
    }
   ],
   "source": [
    "lst=[(1,5),(-2,4),(-4,1),(-3,-2),(3,-4)]\n",
    "dist=[]\n",
    "for element in lst:\n",
    "    if(element[1]>=3):\n",
    "        d=element[1]-3\n",
    "    else:\n",
    "        d=3-element[1]\n",
    "    dist.append((d,element))\n",
    "dist.sort()\n",
    "print(dist[0][1])"
   ]
  },
  {
   "cell_type": "code",
   "execution_count": 14,
   "id": "fa64c295",
   "metadata": {},
   "outputs": [
    {
     "name": "stdout",
     "output_type": "stream",
     "text": [
      "(-2, 4)\n"
     ]
    }
   ],
   "source": [
    " lst=[(1,5),(-2,4),(-4,1),(-3,-2),(3,-4)]\n",
    "dist=[]\n",
    "for element in lst:\n",
    "    d=abs(element[1]-3)\n",
    "    dist.append((d,element))\n",
    "dist.sort()\n",
    "print(dist[0][1])"
   ]
  },
  {
   "cell_type": "code",
   "execution_count": 18,
   "id": "21ea1a73",
   "metadata": {},
   "outputs": [
    {
     "name": "stdout",
     "output_type": "stream",
     "text": [
      "(-2, 4)\n"
     ]
    }
   ],
   "source": [
    "lst=[(1,5),(-2,4),(-4,1),(-3,-2),(3,-4)]\n",
    "dist=[]\n",
    "for element in lst:\n",
    "    d=abs(element[1]-3)\n",
    "    dist.append((d,element))\n",
    "#print(dist)\n",
    "minimum=dist[0][0]\n",
    "coordinate =dist[0][1]\n",
    "for i in range(len(dist)):\n",
    "    if(dist[i][0]<minimum):\n",
    "        minimum=dist[i][0]\n",
    "        coordinate=dist[i][1]\n",
    "#print(minimum)\n",
    "print(coordinate)\n",
    "    "
   ]
  },
  {
   "cell_type": "markdown",
   "id": "c91a056c",
   "metadata": {},
   "source": [
    "# Find the point closest to the line parallel to y-axis and pasing through the point (2,3)\n"
   ]
  },
  {
   "cell_type": "code",
   "execution_count": null,
   "id": "f72e8be2",
   "metadata": {},
   "outputs": [],
   "source": [
    "# homework"
   ]
  },
  {
   "cell_type": "code",
   "execution_count": null,
   "id": "bf7fbcf1",
   "metadata": {},
   "outputs": [],
   "source": []
  },
  {
   "cell_type": "markdown",
   "id": "7eecec94",
   "metadata": {},
   "source": [
    "# SET"
   ]
  },
  {
   "cell_type": "code",
   "execution_count": 24,
   "id": "f52f941e",
   "metadata": {},
   "outputs": [
    {
     "name": "stdout",
     "output_type": "stream",
     "text": [
      "{1, 2, 3, 4, 5}\n"
     ]
    }
   ],
   "source": [
    "myset={1,2,3,4,5}\n",
    "print(myset)"
   ]
  },
  {
   "cell_type": "code",
   "execution_count": 25,
   "id": "28cda547",
   "metadata": {},
   "outputs": [
    {
     "name": "stdout",
     "output_type": "stream",
     "text": [
      "{1, 2, 3, 4, 5, 6}\n"
     ]
    }
   ],
   "source": [
    "myset.add(6)\n",
    "print(myset)"
   ]
  },
  {
   "cell_type": "code",
   "execution_count": 26,
   "id": "605d9935",
   "metadata": {},
   "outputs": [
    {
     "name": "stdout",
     "output_type": "stream",
     "text": [
      "{1, 2, 4, 5, 6}\n"
     ]
    }
   ],
   "source": [
    "myset.remove(3)\n",
    "print(myset)"
   ]
  },
  {
   "cell_type": "code",
   "execution_count": 28,
   "id": "33158728",
   "metadata": {},
   "outputs": [
    {
     "ename": "AttributeError",
     "evalue": "'dict' object has no attribute 'add'",
     "output_type": "error",
     "traceback": [
      "\u001b[1;31m---------------------------------------------------------------------------\u001b[0m",
      "\u001b[1;31mAttributeError\u001b[0m                            Traceback (most recent call last)",
      "Input \u001b[1;32mIn [28]\u001b[0m, in \u001b[0;36m<cell line: 2>\u001b[1;34m()\u001b[0m\n\u001b[0;32m      1\u001b[0m myset\u001b[38;5;241m=\u001b[39m{}\n\u001b[1;32m----> 2\u001b[0m \u001b[43mmyset\u001b[49m\u001b[38;5;241;43m.\u001b[39;49m\u001b[43madd\u001b[49m(\u001b[38;5;241m7\u001b[39m)\n\u001b[0;32m      3\u001b[0m \u001b[38;5;28mprint\u001b[39m(myset)\n",
      "\u001b[1;31mAttributeError\u001b[0m: 'dict' object has no attribute 'add'"
     ]
    }
   ],
   "source": [
    "myset={}  #this will be considered as an empty dictionary\n",
    "myset.add(7)\n",
    "print(myset)"
   ]
  },
  {
   "cell_type": "code",
   "execution_count": 29,
   "id": "d43d02a8",
   "metadata": {},
   "outputs": [
    {
     "name": "stdout",
     "output_type": "stream",
     "text": [
      "{7}\n"
     ]
    }
   ],
   "source": [
    "myset = set()\n",
    "myset.add(7)\n",
    "print(myset)"
   ]
  },
  {
   "cell_type": "code",
   "execution_count": 31,
   "id": "e343d337",
   "metadata": {},
   "outputs": [
    {
     "name": "stdout",
     "output_type": "stream",
     "text": [
      "{1, 2, 3, 4, 5, 6, 7, 8, 9}\n"
     ]
    }
   ],
   "source": [
    "myset = {1,2,3,4,5}\n",
    "myset.update([6,7,8,9])\n",
    "print(myset)"
   ]
  },
  {
   "cell_type": "code",
   "execution_count": 3,
   "id": "bbbc6559",
   "metadata": {},
   "outputs": [
    {
     "name": "stdout",
     "output_type": "stream",
     "text": [
      "{1, 2, 3, 4, 5, 6, 7, 8, 9}\n"
     ]
    }
   ],
   "source": [
    "myset = {1,2,3,4,5}\n",
    "myset.update((6,7,8,9))\n",
    "print(myset)"
   ]
  },
  {
   "cell_type": "code",
   "execution_count": 4,
   "id": "4f3aa873",
   "metadata": {},
   "outputs": [
    {
     "name": "stdout",
     "output_type": "stream",
     "text": [
      "{1, 2, 3, 4, 5, 6, 7, 8, 9}\n"
     ]
    }
   ],
   "source": [
    "myset = {1,2,3,4,5}\n",
    "myset.update({6,7,8,9})\n",
    "print(myset)"
   ]
  },
  {
   "cell_type": "code",
   "execution_count": 5,
   "id": "cd6a74ab",
   "metadata": {},
   "outputs": [
    {
     "name": "stdout",
     "output_type": "stream",
     "text": [
      "{1, 2, 4, 5}\n"
     ]
    }
   ],
   "source": [
    "myset={1,2,3,4,5}\n",
    "myset.remove(3)\n",
    "print(myset)"
   ]
  },
  {
   "cell_type": "code",
   "execution_count": 6,
   "id": "03a310f9",
   "metadata": {},
   "outputs": [
    {
     "data": {
      "text/plain": [
       "set"
      ]
     },
     "execution_count": 6,
     "metadata": {},
     "output_type": "execute_result"
    }
   ],
   "source": [
    "type(myset)"
   ]
  },
  {
   "cell_type": "code",
   "execution_count": 7,
   "id": "9449aedc",
   "metadata": {},
   "outputs": [
    {
     "name": "stdout",
     "output_type": "stream",
     "text": [
      "<class 'set'>\n"
     ]
    }
   ],
   "source": [
    "print(type(myset))"
   ]
  },
  {
   "cell_type": "code",
   "execution_count": 12,
   "id": "16816ac1",
   "metadata": {},
   "outputs": [
    {
     "ename": "KeyError",
     "evalue": "3",
     "output_type": "error",
     "traceback": [
      "\u001b[1;31m---------------------------------------------------------------------------\u001b[0m",
      "\u001b[1;31mKeyError\u001b[0m                                  Traceback (most recent call last)",
      "Input \u001b[1;32mIn [12]\u001b[0m, in \u001b[0;36m<cell line: 3>\u001b[1;34m()\u001b[0m\n\u001b[0;32m      1\u001b[0m myset\u001b[38;5;241m=\u001b[39m{\u001b[38;5;241m1\u001b[39m,\u001b[38;5;241m2\u001b[39m,\u001b[38;5;241m3\u001b[39m,\u001b[38;5;241m4\u001b[39m,\u001b[38;5;241m5\u001b[39m}\n\u001b[0;32m      2\u001b[0m myset\u001b[38;5;241m.\u001b[39mremove(\u001b[38;5;241m3\u001b[39m)\n\u001b[1;32m----> 3\u001b[0m \u001b[43mmyset\u001b[49m\u001b[38;5;241;43m.\u001b[39;49m\u001b[43mremove\u001b[49m\u001b[43m(\u001b[49m\u001b[38;5;241;43m3\u001b[39;49m\u001b[43m)\u001b[49m\n\u001b[0;32m      4\u001b[0m \u001b[38;5;28mprint\u001b[39m(myset)\n",
      "\u001b[1;31mKeyError\u001b[0m: 3"
     ]
    }
   ],
   "source": [
    "myset={1,2,3,4,5}\n",
    "myset.remove(3)\n",
    "myset.remove(3)\n",
    "print(myset)"
   ]
  },
  {
   "cell_type": "code",
   "execution_count": 14,
   "id": "d2253c7d",
   "metadata": {},
   "outputs": [
    {
     "ename": "KeyError",
     "evalue": "3",
     "output_type": "error",
     "traceback": [
      "\u001b[1;31m---------------------------------------------------------------------------\u001b[0m",
      "\u001b[1;31mKeyError\u001b[0m                                  Traceback (most recent call last)",
      "Input \u001b[1;32mIn [14]\u001b[0m, in \u001b[0;36m<cell line: 1>\u001b[1;34m()\u001b[0m\n\u001b[1;32m----> 1\u001b[0m \u001b[43mmyset\u001b[49m\u001b[38;5;241;43m.\u001b[39;49m\u001b[43mremove\u001b[49m\u001b[43m(\u001b[49m\u001b[38;5;241;43m3\u001b[39;49m\u001b[43m)\u001b[49m      \u001b[38;5;66;03m# If you execute this more than once, you will get error because 3 will not be present after removing it once.\u001b[39;00m\n\u001b[0;32m      2\u001b[0m \u001b[38;5;28mprint\u001b[39m(myset)\n",
      "\u001b[1;31mKeyError\u001b[0m: 3"
     ]
    }
   ],
   "source": [
    "myset.remove(3)      # If you execute this more than once, you will get error because 3 will not be present after removing it once.\n",
    "print(myset)"
   ]
  },
  {
   "cell_type": "code",
   "execution_count": 15,
   "id": "2dab9cf5",
   "metadata": {},
   "outputs": [
    {
     "name": "stdout",
     "output_type": "stream",
     "text": [
      "{1, 2, 4, 5}\n"
     ]
    }
   ],
   "source": [
    "myset = {1,2,3,4,5}\n",
    "myset.discard(3)\n",
    "myset.discard(3)\n",
    "print(myset)"
   ]
  },
  {
   "cell_type": "code",
   "execution_count": 16,
   "id": "eadc0c2e",
   "metadata": {},
   "outputs": [
    {
     "data": {
      "text/plain": [
       "1"
      ]
     },
     "execution_count": 16,
     "metadata": {},
     "output_type": "execute_result"
    }
   ],
   "source": [
    "myset={1,2,3,4,5}\n",
    "myset.pop()"
   ]
  },
  {
   "cell_type": "code",
   "execution_count": 17,
   "id": "43f244e3",
   "metadata": {},
   "outputs": [
    {
     "ename": "TypeError",
     "evalue": "'set' object is not subscriptable",
     "output_type": "error",
     "traceback": [
      "\u001b[1;31m---------------------------------------------------------------------------\u001b[0m",
      "\u001b[1;31mTypeError\u001b[0m                                 Traceback (most recent call last)",
      "Input \u001b[1;32mIn [17]\u001b[0m, in \u001b[0;36m<cell line: 2>\u001b[1;34m()\u001b[0m\n\u001b[0;32m      1\u001b[0m myset\u001b[38;5;241m=\u001b[39m{\u001b[38;5;241m1\u001b[39m,\u001b[38;5;241m2\u001b[39m,\u001b[38;5;241m3\u001b[39m,\u001b[38;5;241m4\u001b[39m,\u001b[38;5;241m5\u001b[39m}\n\u001b[1;32m----> 2\u001b[0m \u001b[38;5;28mprint\u001b[39m(\u001b[43mmyset\u001b[49m\u001b[43m[\u001b[49m\u001b[38;5;241;43m0\u001b[39;49m\u001b[43m]\u001b[49m)\n",
      "\u001b[1;31mTypeError\u001b[0m: 'set' object is not subscriptable"
     ]
    }
   ],
   "source": [
    "myset={1,2,3,4,5}\n",
    "print(myset[0])"
   ]
  },
  {
   "cell_type": "code",
   "execution_count": 18,
   "id": "f336aca0",
   "metadata": {},
   "outputs": [
    {
     "ename": "TypeError",
     "evalue": "'set' object does not support item assignment",
     "output_type": "error",
     "traceback": [
      "\u001b[1;31m---------------------------------------------------------------------------\u001b[0m",
      "\u001b[1;31mTypeError\u001b[0m                                 Traceback (most recent call last)",
      "Input \u001b[1;32mIn [18]\u001b[0m, in \u001b[0;36m<cell line: 2>\u001b[1;34m()\u001b[0m\n\u001b[0;32m      1\u001b[0m myset\u001b[38;5;241m=\u001b[39m{\u001b[38;5;241m1\u001b[39m,\u001b[38;5;241m2\u001b[39m,\u001b[38;5;241m3\u001b[39m,\u001b[38;5;241m4\u001b[39m,\u001b[38;5;241m5\u001b[39m}\n\u001b[1;32m----> 2\u001b[0m myset[\u001b[38;5;241m0\u001b[39m]\u001b[38;5;241m=\u001b[39m\u001b[38;5;241m7\u001b[39m\n",
      "\u001b[1;31mTypeError\u001b[0m: 'set' object does not support item assignment"
     ]
    }
   ],
   "source": [
    "myset={1,2,3,4,5}  #immutable\n",
    "myset[0]=7      #TypeError: 'set' object does not support item assignment\n"
   ]
  },
  {
   "cell_type": "code",
   "execution_count": 19,
   "id": "c8bc1a81",
   "metadata": {},
   "outputs": [
    {
     "ename": "TypeError",
     "evalue": "'set' object is not subscriptable",
     "output_type": "error",
     "traceback": [
      "\u001b[1;31m---------------------------------------------------------------------------\u001b[0m",
      "\u001b[1;31mTypeError\u001b[0m                                 Traceback (most recent call last)",
      "Input \u001b[1;32mIn [19]\u001b[0m, in \u001b[0;36m<cell line: 2>\u001b[1;34m()\u001b[0m\n\u001b[0;32m      1\u001b[0m myset\u001b[38;5;241m=\u001b[39m{\u001b[38;5;241m1\u001b[39m,\u001b[38;5;241m2\u001b[39m,\u001b[38;5;241m3\u001b[39m,\u001b[38;5;241m4\u001b[39m,\u001b[38;5;241m5\u001b[39m}\n\u001b[0;32m      2\u001b[0m \u001b[38;5;28;01mfor\u001b[39;00m i \u001b[38;5;129;01min\u001b[39;00m \u001b[38;5;28mrange\u001b[39m(\u001b[38;5;28mlen\u001b[39m(myset)):\n\u001b[1;32m----> 3\u001b[0m     \u001b[38;5;28mprint\u001b[39m(\u001b[43mmyset\u001b[49m\u001b[43m[\u001b[49m\u001b[43mi\u001b[49m\u001b[43m]\u001b[49m)\n",
      "\u001b[1;31mTypeError\u001b[0m: 'set' object is not subscriptable"
     ]
    }
   ],
   "source": [
    "myset={1,2,3,4,5}\n",
    "for i in range(len(myset)):\n",
    "    print(myset[i])  #TypeError: 'set' object is not subscriptable"
   ]
  },
  {
   "cell_type": "markdown",
   "id": "76e142a5",
   "metadata": {},
   "source": [
    "# dictionary"
   ]
  },
  {
   "cell_type": "code",
   "execution_count": 20,
   "id": "f2b42920",
   "metadata": {},
   "outputs": [
    {
     "name": "stdout",
     "output_type": "stream",
     "text": [
      "{1: 'abc', 2: 'def', 3: 'ghi'}\n"
     ]
    }
   ],
   "source": [
    "dictx={1:'abc',2:'def',3:'ghi'}\n",
    "print(dictx)"
   ]
  },
  {
   "cell_type": "code",
   "execution_count": 21,
   "id": "24519dd9",
   "metadata": {},
   "outputs": [
    {
     "data": {
      "text/plain": [
       "'def'"
      ]
     },
     "execution_count": 21,
     "metadata": {},
     "output_type": "execute_result"
    }
   ],
   "source": [
    "dictx[2]"
   ]
  },
  {
   "cell_type": "code",
   "execution_count": 22,
   "id": "b69846aa",
   "metadata": {},
   "outputs": [
    {
     "data": {
      "text/plain": [
       "dict_keys([1, 2, 3])"
      ]
     },
     "execution_count": 22,
     "metadata": {},
     "output_type": "execute_result"
    }
   ],
   "source": [
    "dictx.keys()"
   ]
  },
  {
   "cell_type": "code",
   "execution_count": 23,
   "id": "6c6a1384",
   "metadata": {},
   "outputs": [
    {
     "data": {
      "text/plain": [
       "[1, 2, 3]"
      ]
     },
     "execution_count": 23,
     "metadata": {},
     "output_type": "execute_result"
    }
   ],
   "source": [
    "list(dictx.keys())"
   ]
  },
  {
   "cell_type": "code",
   "execution_count": 24,
   "id": "d4eddcaf",
   "metadata": {},
   "outputs": [
    {
     "data": {
      "text/plain": [
       "[1, 2, 3]"
      ]
     },
     "execution_count": 24,
     "metadata": {},
     "output_type": "execute_result"
    }
   ],
   "source": [
    "list(dictx)"
   ]
  },
  {
   "cell_type": "code",
   "execution_count": 25,
   "id": "69f0862a",
   "metadata": {},
   "outputs": [
    {
     "data": {
      "text/plain": [
       "dict_values(['abc', 'def', 'ghi'])"
      ]
     },
     "execution_count": 25,
     "metadata": {},
     "output_type": "execute_result"
    }
   ],
   "source": [
    "dictx.values()"
   ]
  },
  {
   "cell_type": "code",
   "execution_count": 26,
   "id": "72a5ab9a",
   "metadata": {},
   "outputs": [
    {
     "data": {
      "text/plain": [
       "dict_values"
      ]
     },
     "execution_count": 26,
     "metadata": {},
     "output_type": "execute_result"
    }
   ],
   "source": [
    "type(dictx.values())"
   ]
  },
  {
   "cell_type": "code",
   "execution_count": 28,
   "id": "aba32dd4",
   "metadata": {},
   "outputs": [
    {
     "name": "stdout",
     "output_type": "stream",
     "text": [
      "Key : 1 ; Value : abc\n",
      "Key : 2 ; Value : def\n",
      "Key : 3 ; Value : ghi\n"
     ]
    }
   ],
   "source": [
    "dictX = {1 : 'abc', 2 : 'def', 3 : 'ghi'}\n",
    "for key in dictX:\n",
    "    print(f'Key : {key} ; Value : {dictX[key]}')\n"
   ]
  },
  {
   "cell_type": "code",
   "execution_count": 29,
   "id": "193dfb31",
   "metadata": {},
   "outputs": [
    {
     "name": "stdout",
     "output_type": "stream",
     "text": [
      "{1: 'abc', 3: 'ghi'}\n"
     ]
    }
   ],
   "source": [
    "dictX = {1 : 'abc', 2 : 'def', 3 : 'ghi'}\n",
    "dictX.pop(2)\n",
    "print(dictX)\n",
    "\n"
   ]
  },
  {
   "cell_type": "code",
   "execution_count": 30,
   "id": "b54a0db4",
   "metadata": {},
   "outputs": [
    {
     "ename": "TypeError",
     "evalue": "pop expected at least 1 argument, got 0",
     "output_type": "error",
     "traceback": [
      "\u001b[1;31m---------------------------------------------------------------------------\u001b[0m",
      "\u001b[1;31mTypeError\u001b[0m                                 Traceback (most recent call last)",
      "Input \u001b[1;32mIn [30]\u001b[0m, in \u001b[0;36m<cell line: 2>\u001b[1;34m()\u001b[0m\n\u001b[0;32m      1\u001b[0m dictX \u001b[38;5;241m=\u001b[39m {\u001b[38;5;241m1\u001b[39m : \u001b[38;5;124m'\u001b[39m\u001b[38;5;124mabc\u001b[39m\u001b[38;5;124m'\u001b[39m, \u001b[38;5;241m2\u001b[39m : \u001b[38;5;124m'\u001b[39m\u001b[38;5;124mdef\u001b[39m\u001b[38;5;124m'\u001b[39m, \u001b[38;5;241m3\u001b[39m : \u001b[38;5;124m'\u001b[39m\u001b[38;5;124mghi\u001b[39m\u001b[38;5;124m'\u001b[39m}\n\u001b[1;32m----> 2\u001b[0m \u001b[43mdictX\u001b[49m\u001b[38;5;241;43m.\u001b[39;49m\u001b[43mpop\u001b[49m\u001b[43m(\u001b[49m\u001b[43m)\u001b[49m\n\u001b[0;32m      3\u001b[0m \u001b[38;5;28mprint\u001b[39m(dictX)\n",
      "\u001b[1;31mTypeError\u001b[0m: pop expected at least 1 argument, got 0"
     ]
    }
   ],
   "source": [
    "dictX = {1 : 'abc', 2 : 'def', 3 : 'ghi'}\n",
    "dictX.pop()\n",
    "print(dictX)"
   ]
  },
  {
   "cell_type": "code",
   "execution_count": 31,
   "id": "11df46f3",
   "metadata": {},
   "outputs": [
    {
     "name": "stdout",
     "output_type": "stream",
     "text": [
      "{1: 'abc', 2: 'def', 3: 'ghi', 4: 'xyz'}\n"
     ]
    }
   ],
   "source": [
    "dictX = {1 : 'abc', 2 : 'def', 3 : 'ghi'}\n",
    "dictX.update({4 : 'xyz'})\n",
    "print(dictX)"
   ]
  },
  {
   "cell_type": "code",
   "execution_count": 32,
   "id": "c5de13b9",
   "metadata": {},
   "outputs": [
    {
     "data": {
      "text/plain": [
       "{1: 'abc', 2: 'def', 3: 'ghi'}"
      ]
     },
     "execution_count": 32,
     "metadata": {},
     "output_type": "execute_result"
    }
   ],
   "source": [
    "dictx"
   ]
  },
  {
   "cell_type": "code",
   "execution_count": 41,
   "id": "d4e77cc1",
   "metadata": {},
   "outputs": [
    {
     "name": "stdout",
     "output_type": "stream",
     "text": [
      "mansi\n"
     ]
    }
   ],
   "source": [
    "dictx[5]='mansi'\n",
    "print(dictx[5])"
   ]
  },
  {
   "cell_type": "markdown",
   "id": "793d4185",
   "metadata": {},
   "source": [
    "# find the freq of each element in the list"
   ]
  },
  {
   "cell_type": "code",
   "execution_count": 40,
   "id": "560873ab",
   "metadata": {},
   "outputs": [
    {
     "name": "stdout",
     "output_type": "stream",
     "text": [
      "{1: 4, 4: 2, 2: 2, 5: 1, 6: 1, 7: 1}\n"
     ]
    }
   ],
   "source": [
    "lst=[1,4,2,5,1,6,2,1,7,4,1]\n",
    "dictx={}\n",
    "for element in lst:                                       # freq.\n",
    "    if(element in dictx):\n",
    "        dictx[element]+=1\n",
    "    else:\n",
    "        dictx[element]=1\n",
    "print(dictx)"
   ]
  },
  {
   "cell_type": "code",
   "execution_count": null,
   "id": "07dbf519",
   "metadata": {},
   "outputs": [],
   "source": []
  },
  {
   "cell_type": "code",
   "execution_count": null,
   "id": "c238e962",
   "metadata": {},
   "outputs": [],
   "source": []
  },
  {
   "cell_type": "code",
   "execution_count": null,
   "id": "31d2a4c0",
   "metadata": {},
   "outputs": [],
   "source": []
  },
  {
   "cell_type": "code",
   "execution_count": null,
   "id": "48a7dc63",
   "metadata": {},
   "outputs": [],
   "source": []
  },
  {
   "cell_type": "code",
   "execution_count": null,
   "id": "31654a6c",
   "metadata": {},
   "outputs": [],
   "source": []
  },
  {
   "cell_type": "code",
   "execution_count": null,
   "id": "3c79f3f6",
   "metadata": {},
   "outputs": [],
   "source": []
  },
  {
   "cell_type": "code",
   "execution_count": null,
   "id": "9c8d0f54",
   "metadata": {},
   "outputs": [],
   "source": []
  },
  {
   "cell_type": "code",
   "execution_count": null,
   "id": "3849e8fc",
   "metadata": {},
   "outputs": [],
   "source": []
  },
  {
   "cell_type": "code",
   "execution_count": null,
   "id": "fc6820a1",
   "metadata": {},
   "outputs": [],
   "source": []
  },
  {
   "cell_type": "code",
   "execution_count": null,
   "id": "8fbe7c6f",
   "metadata": {},
   "outputs": [],
   "source": []
  },
  {
   "cell_type": "code",
   "execution_count": null,
   "id": "cfcaa899",
   "metadata": {},
   "outputs": [],
   "source": []
  },
  {
   "cell_type": "code",
   "execution_count": null,
   "id": "a9bc16d2",
   "metadata": {},
   "outputs": [],
   "source": []
  },
  {
   "cell_type": "code",
   "execution_count": null,
   "id": "4113713e",
   "metadata": {},
   "outputs": [],
   "source": []
  },
  {
   "cell_type": "code",
   "execution_count": null,
   "id": "2404ad8e",
   "metadata": {},
   "outputs": [],
   "source": []
  },
  {
   "cell_type": "code",
   "execution_count": null,
   "id": "64287277",
   "metadata": {},
   "outputs": [],
   "source": []
  },
  {
   "cell_type": "code",
   "execution_count": null,
   "id": "051b9e81",
   "metadata": {},
   "outputs": [],
   "source": []
  },
  {
   "cell_type": "code",
   "execution_count": null,
   "id": "1a746377",
   "metadata": {},
   "outputs": [],
   "source": []
  }
 ],
 "metadata": {
  "kernelspec": {
   "display_name": "Python 3 (ipykernel)",
   "language": "python",
   "name": "python3"
  },
  "language_info": {
   "codemirror_mode": {
    "name": "ipython",
    "version": 3
   },
   "file_extension": ".py",
   "mimetype": "text/x-python",
   "name": "python",
   "nbconvert_exporter": "python",
   "pygments_lexer": "ipython3",
   "version": "3.9.12"
  }
 },
 "nbformat": 4,
 "nbformat_minor": 5
}
